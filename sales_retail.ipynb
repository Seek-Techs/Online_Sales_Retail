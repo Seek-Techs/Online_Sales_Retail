{
 "cells": [
  {
   "cell_type": "markdown",
   "id": "0dc6fa6b",
   "metadata": {},
   "source": [
    "##  Load the Dataset"
   ]
  },
  {
   "cell_type": "code",
   "execution_count": 2,
   "id": "d8a666d0",
   "metadata": {},
   "outputs": [
    {
     "name": "stderr",
     "output_type": "stream",
     "text": [
      "C:\\Users\\HolarTech\\anaconda3\\lib\\site-packages\\pandas\\core\\computation\\expressions.py:21: UserWarning: Pandas requires version '2.8.4' or newer of 'numexpr' (version '2.7.3' currently installed).\n",
      "  from pandas.core.computation.check import NUMEXPR_INSTALLED\n",
      "C:\\Users\\HolarTech\\anaconda3\\lib\\site-packages\\pandas\\core\\arrays\\masked.py:60: UserWarning: Pandas requires version '1.3.6' or newer of 'bottleneck' (version '1.3.2' currently installed).\n",
      "  from pandas.core import (\n"
     ]
    }
   ],
   "source": [
    "import pandas as pd\n",
    "\n",
    "import matplotlib.pyplot as plt\n"
   ]
  },
  {
   "cell_type": "code",
   "execution_count": 3,
   "id": "a16c8b88",
   "metadata": {},
   "outputs": [],
   "source": [
    "# Read the dataset\n",
    "data = pd.read_excel('customer.xlsx')"
   ]
  },
  {
   "cell_type": "code",
   "execution_count": 4,
   "id": "d95d2ba6",
   "metadata": {},
   "outputs": [
    {
     "data": {
      "text/html": [
       "<div>\n",
       "<style scoped>\n",
       "    .dataframe tbody tr th:only-of-type {\n",
       "        vertical-align: middle;\n",
       "    }\n",
       "\n",
       "    .dataframe tbody tr th {\n",
       "        vertical-align: top;\n",
       "    }\n",
       "\n",
       "    .dataframe thead th {\n",
       "        text-align: right;\n",
       "    }\n",
       "</style>\n",
       "<table border=\"1\" class=\"dataframe\">\n",
       "  <thead>\n",
       "    <tr style=\"text-align: right;\">\n",
       "      <th></th>\n",
       "      <th>Quantity</th>\n",
       "      <th>InvoiceDate</th>\n",
       "      <th>UnitPrice</th>\n",
       "      <th>CustomerID</th>\n",
       "    </tr>\n",
       "  </thead>\n",
       "  <tbody>\n",
       "    <tr>\n",
       "      <th>count</th>\n",
       "      <td>541909.000000</td>\n",
       "      <td>541909</td>\n",
       "      <td>541909.000000</td>\n",
       "      <td>406829.000000</td>\n",
       "    </tr>\n",
       "    <tr>\n",
       "      <th>mean</th>\n",
       "      <td>9.552250</td>\n",
       "      <td>2011-07-04 13:34:57.156386048</td>\n",
       "      <td>4.611114</td>\n",
       "      <td>15287.690570</td>\n",
       "    </tr>\n",
       "    <tr>\n",
       "      <th>min</th>\n",
       "      <td>-80995.000000</td>\n",
       "      <td>2010-12-01 08:26:00</td>\n",
       "      <td>-11062.060000</td>\n",
       "      <td>12346.000000</td>\n",
       "    </tr>\n",
       "    <tr>\n",
       "      <th>25%</th>\n",
       "      <td>1.000000</td>\n",
       "      <td>2011-03-28 11:34:00</td>\n",
       "      <td>1.250000</td>\n",
       "      <td>13953.000000</td>\n",
       "    </tr>\n",
       "    <tr>\n",
       "      <th>50%</th>\n",
       "      <td>3.000000</td>\n",
       "      <td>2011-07-19 17:17:00</td>\n",
       "      <td>2.080000</td>\n",
       "      <td>15152.000000</td>\n",
       "    </tr>\n",
       "    <tr>\n",
       "      <th>75%</th>\n",
       "      <td>10.000000</td>\n",
       "      <td>2011-10-19 11:27:00</td>\n",
       "      <td>4.130000</td>\n",
       "      <td>16791.000000</td>\n",
       "    </tr>\n",
       "    <tr>\n",
       "      <th>max</th>\n",
       "      <td>80995.000000</td>\n",
       "      <td>2011-12-09 12:50:00</td>\n",
       "      <td>38970.000000</td>\n",
       "      <td>18287.000000</td>\n",
       "    </tr>\n",
       "    <tr>\n",
       "      <th>std</th>\n",
       "      <td>218.081158</td>\n",
       "      <td>NaN</td>\n",
       "      <td>96.759853</td>\n",
       "      <td>1713.600303</td>\n",
       "    </tr>\n",
       "  </tbody>\n",
       "</table>\n",
       "</div>"
      ],
      "text/plain": [
       "            Quantity                    InvoiceDate      UnitPrice  \\\n",
       "count  541909.000000                         541909  541909.000000   \n",
       "mean        9.552250  2011-07-04 13:34:57.156386048       4.611114   \n",
       "min    -80995.000000            2010-12-01 08:26:00  -11062.060000   \n",
       "25%         1.000000            2011-03-28 11:34:00       1.250000   \n",
       "50%         3.000000            2011-07-19 17:17:00       2.080000   \n",
       "75%        10.000000            2011-10-19 11:27:00       4.130000   \n",
       "max     80995.000000            2011-12-09 12:50:00   38970.000000   \n",
       "std       218.081158                            NaN      96.759853   \n",
       "\n",
       "          CustomerID  \n",
       "count  406829.000000  \n",
       "mean    15287.690570  \n",
       "min     12346.000000  \n",
       "25%     13953.000000  \n",
       "50%     15152.000000  \n",
       "75%     16791.000000  \n",
       "max     18287.000000  \n",
       "std      1713.600303  "
      ]
     },
     "execution_count": 4,
     "metadata": {},
     "output_type": "execute_result"
    }
   ],
   "source": [
    "data.describe()"
   ]
  },
  {
   "cell_type": "code",
   "execution_count": 5,
   "id": "f4a0623e",
   "metadata": {},
   "outputs": [
    {
     "name": "stdout",
     "output_type": "stream",
     "text": [
      "<class 'pandas.core.frame.DataFrame'>\n",
      "RangeIndex: 541909 entries, 0 to 541908\n",
      "Data columns (total 8 columns):\n",
      " #   Column       Non-Null Count   Dtype         \n",
      "---  ------       --------------   -----         \n",
      " 0   InvoiceNo    541909 non-null  object        \n",
      " 1   StockCode    541909 non-null  object        \n",
      " 2   Description  540455 non-null  object        \n",
      " 3   Quantity     541909 non-null  int64         \n",
      " 4   InvoiceDate  541909 non-null  datetime64[ns]\n",
      " 5   UnitPrice    541909 non-null  float64       \n",
      " 6   CustomerID   406829 non-null  float64       \n",
      " 7   Country      541909 non-null  object        \n",
      "dtypes: datetime64[ns](1), float64(2), int64(1), object(4)\n",
      "memory usage: 33.1+ MB\n"
     ]
    }
   ],
   "source": [
    "data.info()"
   ]
  },
  {
   "cell_type": "code",
   "execution_count": 6,
   "id": "21059088",
   "metadata": {},
   "outputs": [
    {
     "data": {
      "text/plain": [
       "InvoiceNo           0\n",
       "StockCode           0\n",
       "Description      1454\n",
       "Quantity            0\n",
       "InvoiceDate         0\n",
       "UnitPrice           0\n",
       "CustomerID     135080\n",
       "Country             0\n",
       "dtype: int64"
      ]
     },
     "execution_count": 6,
     "metadata": {},
     "output_type": "execute_result"
    }
   ],
   "source": [
    "data.isnull().sum()"
   ]
  },
  {
   "cell_type": "code",
   "execution_count": 7,
   "id": "847f4a55",
   "metadata": {},
   "outputs": [],
   "source": [
    "# Impute missing values in the 'Description' column with the mode (most frequent value)\n",
    "data['Description'] = data['Description'].fillna(data['Description'].mode()[0])"
   ]
  },
  {
   "cell_type": "code",
   "execution_count": 8,
   "id": "04d3ce03",
   "metadata": {},
   "outputs": [
    {
     "data": {
      "text/plain": [
       "InvoiceNo           0\n",
       "StockCode           0\n",
       "Description         0\n",
       "Quantity            0\n",
       "InvoiceDate         0\n",
       "UnitPrice           0\n",
       "CustomerID     135080\n",
       "Country             0\n",
       "dtype: int64"
      ]
     },
     "execution_count": 8,
     "metadata": {},
     "output_type": "execute_result"
    }
   ],
   "source": [
    "data.isnull().sum()"
   ]
  },
  {
   "cell_type": "code",
   "execution_count": 9,
   "id": "38a3b1b1",
   "metadata": {},
   "outputs": [],
   "source": [
    "# Drop rows with missing CustomerID values\n",
    "data.dropna(subset=['CustomerID'], inplace=True)\n"
   ]
  },
  {
   "cell_type": "markdown",
   "id": "d95dba43",
   "metadata": {},
   "source": [
    "## Identify Discount or Promotion Events"
   ]
  },
  {
   "cell_type": "code",
   "execution_count": 10,
   "id": "d6bdf660",
   "metadata": {},
   "outputs": [],
   "source": [
    "# Filter the dataset to identify discount transactions\n",
    "discount_transactions = data[data['Description'].str.contains('Discount', case=False)]\n"
   ]
  },
  {
   "cell_type": "code",
   "execution_count": 11,
   "id": "d6dadbbd",
   "metadata": {},
   "outputs": [
    {
     "name": "stdout",
     "output_type": "stream",
     "text": [
      "Discount Transactions:\n"
     ]
    },
    {
     "data": {
      "text/html": [
       "<div>\n",
       "<style scoped>\n",
       "    .dataframe tbody tr th:only-of-type {\n",
       "        vertical-align: middle;\n",
       "    }\n",
       "\n",
       "    .dataframe tbody tr th {\n",
       "        vertical-align: top;\n",
       "    }\n",
       "\n",
       "    .dataframe thead th {\n",
       "        text-align: right;\n",
       "    }\n",
       "</style>\n",
       "<table border=\"1\" class=\"dataframe\">\n",
       "  <thead>\n",
       "    <tr style=\"text-align: right;\">\n",
       "      <th></th>\n",
       "      <th>InvoiceNo</th>\n",
       "      <th>StockCode</th>\n",
       "      <th>Description</th>\n",
       "      <th>Quantity</th>\n",
       "      <th>InvoiceDate</th>\n",
       "      <th>UnitPrice</th>\n",
       "      <th>CustomerID</th>\n",
       "      <th>Country</th>\n",
       "    </tr>\n",
       "  </thead>\n",
       "  <tbody>\n",
       "    <tr>\n",
       "      <th>141</th>\n",
       "      <td>C536379</td>\n",
       "      <td>D</td>\n",
       "      <td>Discount</td>\n",
       "      <td>-1</td>\n",
       "      <td>2010-12-01 09:41:00</td>\n",
       "      <td>27.50</td>\n",
       "      <td>14527.0</td>\n",
       "      <td>United Kingdom</td>\n",
       "    </tr>\n",
       "    <tr>\n",
       "      <th>9038</th>\n",
       "      <td>C537164</td>\n",
       "      <td>D</td>\n",
       "      <td>Discount</td>\n",
       "      <td>-1</td>\n",
       "      <td>2010-12-05 13:21:00</td>\n",
       "      <td>29.29</td>\n",
       "      <td>14527.0</td>\n",
       "      <td>United Kingdom</td>\n",
       "    </tr>\n",
       "    <tr>\n",
       "      <th>14498</th>\n",
       "      <td>C537597</td>\n",
       "      <td>D</td>\n",
       "      <td>Discount</td>\n",
       "      <td>-1</td>\n",
       "      <td>2010-12-07 12:34:00</td>\n",
       "      <td>281.00</td>\n",
       "      <td>15498.0</td>\n",
       "      <td>United Kingdom</td>\n",
       "    </tr>\n",
       "    <tr>\n",
       "      <th>19392</th>\n",
       "      <td>C537857</td>\n",
       "      <td>D</td>\n",
       "      <td>Discount</td>\n",
       "      <td>-1</td>\n",
       "      <td>2010-12-08 16:00:00</td>\n",
       "      <td>267.12</td>\n",
       "      <td>17340.0</td>\n",
       "      <td>United Kingdom</td>\n",
       "    </tr>\n",
       "    <tr>\n",
       "      <th>31134</th>\n",
       "      <td>C538897</td>\n",
       "      <td>D</td>\n",
       "      <td>Discount</td>\n",
       "      <td>-1</td>\n",
       "      <td>2010-12-15 09:14:00</td>\n",
       "      <td>5.76</td>\n",
       "      <td>16422.0</td>\n",
       "      <td>United Kingdom</td>\n",
       "    </tr>\n",
       "    <tr>\n",
       "      <th>...</th>\n",
       "      <td>...</td>\n",
       "      <td>...</td>\n",
       "      <td>...</td>\n",
       "      <td>...</td>\n",
       "      <td>...</td>\n",
       "      <td>...</td>\n",
       "      <td>...</td>\n",
       "      <td>...</td>\n",
       "    </tr>\n",
       "    <tr>\n",
       "      <th>479868</th>\n",
       "      <td>C577227</td>\n",
       "      <td>D</td>\n",
       "      <td>Discount</td>\n",
       "      <td>-1</td>\n",
       "      <td>2011-11-18 12:06:00</td>\n",
       "      <td>19.82</td>\n",
       "      <td>14527.0</td>\n",
       "      <td>United Kingdom</td>\n",
       "    </tr>\n",
       "    <tr>\n",
       "      <th>479869</th>\n",
       "      <td>C577227</td>\n",
       "      <td>D</td>\n",
       "      <td>Discount</td>\n",
       "      <td>-1</td>\n",
       "      <td>2011-11-18 12:06:00</td>\n",
       "      <td>16.76</td>\n",
       "      <td>14527.0</td>\n",
       "      <td>United Kingdom</td>\n",
       "    </tr>\n",
       "    <tr>\n",
       "      <th>493613</th>\n",
       "      <td>C578239</td>\n",
       "      <td>D</td>\n",
       "      <td>Discount</td>\n",
       "      <td>-1</td>\n",
       "      <td>2011-11-23 12:29:00</td>\n",
       "      <td>26.33</td>\n",
       "      <td>14912.0</td>\n",
       "      <td>Italy</td>\n",
       "    </tr>\n",
       "    <tr>\n",
       "      <th>516221</th>\n",
       "      <td>C579884</td>\n",
       "      <td>D</td>\n",
       "      <td>Discount</td>\n",
       "      <td>-1</td>\n",
       "      <td>2011-11-30 17:34:00</td>\n",
       "      <td>20.53</td>\n",
       "      <td>14527.0</td>\n",
       "      <td>United Kingdom</td>\n",
       "    </tr>\n",
       "    <tr>\n",
       "      <th>516455</th>\n",
       "      <td>C579908</td>\n",
       "      <td>D</td>\n",
       "      <td>Discount</td>\n",
       "      <td>-1</td>\n",
       "      <td>2011-12-01 08:49:00</td>\n",
       "      <td>28.68</td>\n",
       "      <td>14527.0</td>\n",
       "      <td>United Kingdom</td>\n",
       "    </tr>\n",
       "  </tbody>\n",
       "</table>\n",
       "<p>77 rows × 8 columns</p>\n",
       "</div>"
      ],
      "text/plain": [
       "       InvoiceNo StockCode Description  Quantity         InvoiceDate  \\\n",
       "141      C536379         D    Discount        -1 2010-12-01 09:41:00   \n",
       "9038     C537164         D    Discount        -1 2010-12-05 13:21:00   \n",
       "14498    C537597         D    Discount        -1 2010-12-07 12:34:00   \n",
       "19392    C537857         D    Discount        -1 2010-12-08 16:00:00   \n",
       "31134    C538897         D    Discount        -1 2010-12-15 09:14:00   \n",
       "...          ...       ...         ...       ...                 ...   \n",
       "479868   C577227         D    Discount        -1 2011-11-18 12:06:00   \n",
       "479869   C577227         D    Discount        -1 2011-11-18 12:06:00   \n",
       "493613   C578239         D    Discount        -1 2011-11-23 12:29:00   \n",
       "516221   C579884         D    Discount        -1 2011-11-30 17:34:00   \n",
       "516455   C579908         D    Discount        -1 2011-12-01 08:49:00   \n",
       "\n",
       "        UnitPrice  CustomerID         Country  \n",
       "141         27.50     14527.0  United Kingdom  \n",
       "9038        29.29     14527.0  United Kingdom  \n",
       "14498      281.00     15498.0  United Kingdom  \n",
       "19392      267.12     17340.0  United Kingdom  \n",
       "31134        5.76     16422.0  United Kingdom  \n",
       "...           ...         ...             ...  \n",
       "479868      19.82     14527.0  United Kingdom  \n",
       "479869      16.76     14527.0  United Kingdom  \n",
       "493613      26.33     14912.0           Italy  \n",
       "516221      20.53     14527.0  United Kingdom  \n",
       "516455      28.68     14527.0  United Kingdom  \n",
       "\n",
       "[77 rows x 8 columns]"
      ]
     },
     "execution_count": 11,
     "metadata": {},
     "output_type": "execute_result"
    }
   ],
   "source": [
    "# Print the discount transactions and their quantities\n",
    "print(\"Discount Transactions:\")\n",
    "discount_transactions"
   ]
  },
  {
   "cell_type": "code",
   "execution_count": 12,
   "id": "5230b089",
   "metadata": {},
   "outputs": [
    {
     "name": "stdout",
     "output_type": "stream",
     "text": [
      "The shape of the dataset\n",
      "\n",
      "Number of rows: 406829\n",
      "Number of columns: 8\n"
     ]
    }
   ],
   "source": [
    "rows, columns = data.shape\n",
    "print('The shape of the dataset\\n')\n",
    "print(f'Number of rows: {rows}')\n",
    "print(f'Number of columns: {columns}')"
   ]
  },
  {
   "cell_type": "markdown",
   "id": "5eb2bcd9",
   "metadata": {},
   "source": [
    "## Quantity Purchased During Discounts"
   ]
  },
  {
   "cell_type": "code",
   "execution_count": 13,
   "id": "787d9162",
   "metadata": {},
   "outputs": [],
   "source": [
    "# Group by discount events and calculate total quantity purchased\n",
    "discount_quantity = discount_transactions.groupby('Description')['Quantity'].sum()\n"
   ]
  },
  {
   "cell_type": "code",
   "execution_count": 14,
   "id": "d242d9f2",
   "metadata": {},
   "outputs": [
    {
     "name": "stdout",
     "output_type": "stream",
     "text": [
      "Description\n",
      "Discount   -1194\n",
      "Name: Quantity, dtype: int64\n"
     ]
    }
   ],
   "source": [
    "print(discount_quantity)"
   ]
  },
  {
   "cell_type": "markdown",
   "id": "d0f6c5cc",
   "metadata": {},
   "source": [
    "## Discount Impact on Revenue "
   ]
  },
  {
   "cell_type": "code",
   "execution_count": 15,
   "id": "e3e0d1d2",
   "metadata": {},
   "outputs": [
    {
     "name": "stdout",
     "output_type": "stream",
     "text": [
      "\n",
      "Revenue from Discount Transactions: -5696.219999999999\n",
      "Revenue from Non-Discount Transactions: 8911407.904\n"
     ]
    }
   ],
   "source": [
    "# Calculate revenue from discount transactions\n",
    "discount_revenue = (discount_transactions['Quantity'] * discount_transactions['UnitPrice']).sum()\n",
    "\n",
    "# Calculate revenue from non-discount transactions\n",
    "non_discount_revenue = ((data[data['Quantity'] > 0]['Quantity'] * data[data['Quantity'] > 0]['UnitPrice'])).sum()\n",
    "\n",
    "# Compare revenue\n",
    "print(\"\\nRevenue from Discount Transactions:\", discount_revenue)\n",
    "print(\"Revenue from Non-Discount Transactions:\", non_discount_revenue)"
   ]
  },
  {
   "cell_type": "markdown",
   "id": "02945f5f",
   "metadata": {},
   "source": [
    "## Optimize Pricing Strategies to Affect Customer Buying Behaviour"
   ]
  },
  {
   "cell_type": "code",
   "execution_count": 16,
   "id": "50da05ac",
   "metadata": {},
   "outputs": [
    {
     "name": "stdout",
     "output_type": "stream",
     "text": [
      "\n",
      "Updated DataFrame with Discounted Prices:\n"
     ]
    }
   ],
   "source": [
    "# Offering a 10% discount for purchases of 10 or more units\n",
    "bulk_discount = 0.1 # Assuming a 10% discount for bulk purchase\n",
    "\n",
    "# calculate and Create a total price field\n",
    "data['TotalPrice'] = data['Quantity'] * data['UnitPrice']\n",
    "\n",
    "# create a discounted price field\n",
    "data['DiscountedPrice'] = data['TotalPrice']\n",
    "data.loc[data['Quantity'] >= 10, 'DiscountedPrice'] *= (1 - bulk_discount)\n",
    "\n",
    "# Display the updated DataFrame with discounted prices\n",
    "print(\"\\nUpdated DataFrame with Discounted Prices:\")\n"
   ]
  },
  {
   "cell_type": "code",
   "execution_count": 17,
   "id": "ede0aa14",
   "metadata": {},
   "outputs": [
    {
     "data": {
      "text/html": [
       "<div>\n",
       "<style scoped>\n",
       "    .dataframe tbody tr th:only-of-type {\n",
       "        vertical-align: middle;\n",
       "    }\n",
       "\n",
       "    .dataframe tbody tr th {\n",
       "        vertical-align: top;\n",
       "    }\n",
       "\n",
       "    .dataframe thead th {\n",
       "        text-align: right;\n",
       "    }\n",
       "</style>\n",
       "<table border=\"1\" class=\"dataframe\">\n",
       "  <thead>\n",
       "    <tr style=\"text-align: right;\">\n",
       "      <th></th>\n",
       "      <th>InvoiceNo</th>\n",
       "      <th>StockCode</th>\n",
       "      <th>Description</th>\n",
       "      <th>Quantity</th>\n",
       "      <th>InvoiceDate</th>\n",
       "      <th>UnitPrice</th>\n",
       "      <th>CustomerID</th>\n",
       "      <th>Country</th>\n",
       "      <th>TotalPrice</th>\n",
       "      <th>DiscountedPrice</th>\n",
       "    </tr>\n",
       "  </thead>\n",
       "  <tbody>\n",
       "    <tr>\n",
       "      <th>0</th>\n",
       "      <td>536365</td>\n",
       "      <td>85123A</td>\n",
       "      <td>WHITE HANGING HEART T-LIGHT HOLDER</td>\n",
       "      <td>6</td>\n",
       "      <td>2010-12-01 08:26:00</td>\n",
       "      <td>2.55</td>\n",
       "      <td>17850.0</td>\n",
       "      <td>United Kingdom</td>\n",
       "      <td>15.30</td>\n",
       "      <td>15.30</td>\n",
       "    </tr>\n",
       "    <tr>\n",
       "      <th>1</th>\n",
       "      <td>536365</td>\n",
       "      <td>71053</td>\n",
       "      <td>WHITE METAL LANTERN</td>\n",
       "      <td>6</td>\n",
       "      <td>2010-12-01 08:26:00</td>\n",
       "      <td>3.39</td>\n",
       "      <td>17850.0</td>\n",
       "      <td>United Kingdom</td>\n",
       "      <td>20.34</td>\n",
       "      <td>20.34</td>\n",
       "    </tr>\n",
       "    <tr>\n",
       "      <th>2</th>\n",
       "      <td>536365</td>\n",
       "      <td>84406B</td>\n",
       "      <td>CREAM CUPID HEARTS COAT HANGER</td>\n",
       "      <td>8</td>\n",
       "      <td>2010-12-01 08:26:00</td>\n",
       "      <td>2.75</td>\n",
       "      <td>17850.0</td>\n",
       "      <td>United Kingdom</td>\n",
       "      <td>22.00</td>\n",
       "      <td>22.00</td>\n",
       "    </tr>\n",
       "    <tr>\n",
       "      <th>3</th>\n",
       "      <td>536365</td>\n",
       "      <td>84029G</td>\n",
       "      <td>KNITTED UNION FLAG HOT WATER BOTTLE</td>\n",
       "      <td>6</td>\n",
       "      <td>2010-12-01 08:26:00</td>\n",
       "      <td>3.39</td>\n",
       "      <td>17850.0</td>\n",
       "      <td>United Kingdom</td>\n",
       "      <td>20.34</td>\n",
       "      <td>20.34</td>\n",
       "    </tr>\n",
       "    <tr>\n",
       "      <th>4</th>\n",
       "      <td>536365</td>\n",
       "      <td>84029E</td>\n",
       "      <td>RED WOOLLY HOTTIE WHITE HEART.</td>\n",
       "      <td>6</td>\n",
       "      <td>2010-12-01 08:26:00</td>\n",
       "      <td>3.39</td>\n",
       "      <td>17850.0</td>\n",
       "      <td>United Kingdom</td>\n",
       "      <td>20.34</td>\n",
       "      <td>20.34</td>\n",
       "    </tr>\n",
       "  </tbody>\n",
       "</table>\n",
       "</div>"
      ],
      "text/plain": [
       "  InvoiceNo StockCode                          Description  Quantity  \\\n",
       "0    536365    85123A   WHITE HANGING HEART T-LIGHT HOLDER         6   \n",
       "1    536365     71053                  WHITE METAL LANTERN         6   \n",
       "2    536365    84406B       CREAM CUPID HEARTS COAT HANGER         8   \n",
       "3    536365    84029G  KNITTED UNION FLAG HOT WATER BOTTLE         6   \n",
       "4    536365    84029E       RED WOOLLY HOTTIE WHITE HEART.         6   \n",
       "\n",
       "          InvoiceDate  UnitPrice  CustomerID         Country  TotalPrice  \\\n",
       "0 2010-12-01 08:26:00       2.55     17850.0  United Kingdom       15.30   \n",
       "1 2010-12-01 08:26:00       3.39     17850.0  United Kingdom       20.34   \n",
       "2 2010-12-01 08:26:00       2.75     17850.0  United Kingdom       22.00   \n",
       "3 2010-12-01 08:26:00       3.39     17850.0  United Kingdom       20.34   \n",
       "4 2010-12-01 08:26:00       3.39     17850.0  United Kingdom       20.34   \n",
       "\n",
       "   DiscountedPrice  \n",
       "0            15.30  \n",
       "1            20.34  \n",
       "2            22.00  \n",
       "3            20.34  \n",
       "4            20.34  "
      ]
     },
     "execution_count": 17,
     "metadata": {},
     "output_type": "execute_result"
    }
   ],
   "source": [
    "data.head()"
   ]
  },
  {
   "cell_type": "markdown",
   "id": "4ec8d7cb",
   "metadata": {},
   "source": [
    "## Number of Products' Categories"
   ]
  },
  {
   "cell_type": "code",
   "execution_count": 18,
   "id": "20551e53",
   "metadata": {},
   "outputs": [
    {
     "name": "stdout",
     "output_type": "stream",
     "text": [
      "Number of  different categories of the product: 3896\n"
     ]
    }
   ],
   "source": [
    "description = data['Description'].nunique()\n",
    "print(f'Number of  different categories of the product: {description}')"
   ]
  },
  {
   "cell_type": "markdown",
   "id": "5c5cb6c5",
   "metadata": {},
   "source": [
    "## Number of Each Products' Categories"
   ]
  },
  {
   "cell_type": "code",
   "execution_count": 19,
   "id": "a7c0ffdd",
   "metadata": {},
   "outputs": [
    {
     "data": {
      "text/plain": [
       "Description\n",
       "WHITE HANGING HEART T-LIGHT HOLDER    2070\n",
       "REGENCY CAKESTAND 3 TIER              1905\n",
       "JUMBO BAG RED RETROSPOT               1662\n",
       "ASSORTED COLOUR BIRD ORNAMENT         1418\n",
       "PARTY BUNTING                         1416\n",
       "LUNCH BAG RED RETROSPOT               1358\n",
       "SET OF 3 CAKE TINS PANTRY DESIGN      1232\n",
       "POSTAGE                               1196\n",
       "LUNCH BAG  BLACK SKULL.               1126\n",
       "PACK OF 72 RETROSPOT CAKE CASES       1080\n",
       "Name: count, dtype: int64"
      ]
     },
     "execution_count": 19,
     "metadata": {},
     "output_type": "execute_result"
    }
   ],
   "source": [
    "products_categories = data['Description'].value_counts().head(10)\n",
    "products_categories"
   ]
  },
  {
   "cell_type": "markdown",
   "id": "db9ef95d",
   "metadata": {},
   "source": [
    "## Number of Country Categories"
   ]
  },
  {
   "cell_type": "code",
   "execution_count": 20,
   "id": "b23f61b9",
   "metadata": {},
   "outputs": [
    {
     "name": "stdout",
     "output_type": "stream",
     "text": [
      "Number of country: 37\n"
     ]
    }
   ],
   "source": [
    "country_categories = data['Country'].nunique()\n",
    "print(f'Number of country: {country_categories}')"
   ]
  },
  {
   "cell_type": "code",
   "execution_count": 21,
   "id": "bf576b36",
   "metadata": {},
   "outputs": [
    {
     "data": {
      "text/plain": [
       "Country\n",
       "United Kingdom    361878\n",
       "Germany             9495\n",
       "France              8491\n",
       "EIRE                7485\n",
       "Spain               2533\n",
       "Netherlands         2371\n",
       "Belgium             2069\n",
       "Switzerland         1877\n",
       "Portugal            1480\n",
       "Australia           1259\n",
       "Name: count, dtype: int64"
      ]
     },
     "execution_count": 21,
     "metadata": {},
     "output_type": "execute_result"
    }
   ],
   "source": [
    "country = data['Country'].value_counts().head(10)\n",
    "country"
   ]
  },
  {
   "cell_type": "markdown",
   "id": "b36137b7",
   "metadata": {},
   "source": [
    "## Top Ten Country"
   ]
  },
  {
   "cell_type": "code",
   "execution_count": 22,
   "id": "26e34f7a",
   "metadata": {},
   "outputs": [
    {
     "data": {
      "image/png": "[encoded data removed]",
      "text/plain": [
       "<Figure size 432x288 with 1 Axes>"
      ]
     },
     "metadata": {
      "needs_background": "light"
     },
     "output_type": "display_data"
    }
   ],
   "source": [
    "country.plot(kind='bar', color='skyblue', edgecolor='black')\n",
    "plt.title('Top 10 Country')\n",
    "plt.show()"
   ]
  },
  {
   "cell_type": "markdown",
   "id": "92a9a245",
   "metadata": {},
   "source": [
    "## Number of Customers"
   ]
  },
  {
   "cell_type": "code",
   "execution_count": 23,
   "id": "13ee7331",
   "metadata": {},
   "outputs": [
    {
     "name": "stdout",
     "output_type": "stream",
     "text": [
      "Number of Customer: 4372\n"
     ]
    }
   ],
   "source": [
    "customer = data['CustomerID'].nunique()\n",
    "print(f'Number of Customer: {customer}')"
   ]
  },
  {
   "cell_type": "code",
   "execution_count": 24,
   "id": "b0723024",
   "metadata": {},
   "outputs": [
    {
     "data": {
      "text/plain": [
       "CustomerID\n",
       "17841.0    7983\n",
       "14911.0    5903\n",
       "14096.0    5128\n",
       "12748.0    4642\n",
       "14606.0    2782\n",
       "15311.0    2491\n",
       "14646.0    2085\n",
       "13089.0    1857\n",
       "13263.0    1677\n",
       "14298.0    1640\n",
       "Name: count, dtype: int64"
      ]
     },
     "execution_count": 24,
     "metadata": {},
     "output_type": "execute_result"
    }
   ],
   "source": [
    "customer = data['CustomerID'].value_counts().head(10)\n",
    "customer"
   ]
  },
  {
   "cell_type": "markdown",
   "id": "1be074bb",
   "metadata": {},
   "source": [
    "## Top 10 Customers"
   ]
  },
  {
   "cell_type": "code",
   "execution_count": 25,
   "id": "ce5663fc",
   "metadata": {},
   "outputs": [
    {
     "data": {
      "image/png": "[encoded data removed]",
      "text/plain": [
       "<Figure size 432x288 with 1 Axes>"
      ]
     },
     "metadata": {
      "needs_background": "light"
     },
     "output_type": "display_data"
    }
   ],
   "source": [
    "customer.plot(kind='bar', color='skyblue', edgecolor='black', fontsize=14)\n",
    "plt.title('Top 10 Customer', fontsize=14)\n",
    "plt.xlabel('Custoner ID', fontsize=14)\n",
    "plt.ylabel('Frequency', fontsize=14)\n",
    "plt.show()"
   ]
  },
  {
   "cell_type": "markdown",
   "id": "dc53568e",
   "metadata": {},
   "source": [
    "## Average Unit Price of each products and Total Quantity Sold of each Product as well"
   ]
  },
  {
   "cell_type": "code",
   "execution_count": 26,
   "id": "6fc1c09e",
   "metadata": {},
   "outputs": [],
   "source": [
    "# Calculate average unit price for each product\n",
    "average_unit_price = data.groupby('Description')['UnitPrice'].mean()\n",
    "\n",
    "# Calculate total quantity sold for each product\n",
    "total_quantity_sold = data.groupby('Description')['Quantity'].sum()"
   ]
  },
  {
   "cell_type": "code",
   "execution_count": 27,
   "id": "4685638c",
   "metadata": {},
   "outputs": [
    {
     "name": "stdout",
     "output_type": "stream",
     "text": [
      "Average Unit Price of each Product:\n"
     ]
    },
    {
     "data": {
      "text/plain": [
       "Description\n",
       "DOTCOM POSTAGE                        744.147500\n",
       "PICNIC BASKET WICKER 60 PIECES        649.500000\n",
       "CRUK Commission                       495.839375\n",
       "Manual                                334.425634\n",
       "REGENCY MIRROR WITH SHUTTERS          156.428571\n",
       "RUSTIC  SEVENTEEN DRAWER SIDEBOARD    156.034483\n",
       "VINTAGE RED KITCHEN CABINET           150.663043\n",
       "VINTAGE BLUE KITCHEN CABINET          143.653846\n",
       "CHEST NATURAL WOOD 20 DRAWERS         118.076923\n",
       "LOVE SEAT ANTIQUE WHITE METAL         115.388889\n",
       "Name: UnitPrice, dtype: float64"
      ]
     },
     "execution_count": 27,
     "metadata": {},
     "output_type": "execute_result"
    }
   ],
   "source": [
    "# Display the calculated metrics\n",
    "print(\"Average Unit Price of each Product:\")\n",
    "# average_unit_price = pd.DataFrame(average_unit_price)\n",
    "average_unit_price.sort_values(ascending=False).head(10)\n"
   ]
  },
  {
   "cell_type": "code",
   "execution_count": 28,
   "id": "cc5fc794",
   "metadata": {},
   "outputs": [
    {
     "name": "stdout",
     "output_type": "stream",
     "text": [
      "\n",
      "Total Quantity Sold of each Product:\n"
     ]
    },
    {
     "data": {
      "text/plain": [
       "Description\n",
       "WORLD WAR 2 GLIDERS ASSTD DESIGNS     53215\n",
       "JUMBO BAG RED RETROSPOT               45066\n",
       "ASSORTED COLOUR BIRD ORNAMENT         35314\n",
       "WHITE HANGING HEART T-LIGHT HOLDER    34147\n",
       "PACK OF 72 RETROSPOT CAKE CASES       33409\n",
       "POPCORN HOLDER                        30504\n",
       "RABBIT NIGHT LIGHT                    27094\n",
       "MINI PAINT SET VINTAGE                25880\n",
       "PACK OF 12 LONDON TISSUES             25321\n",
       "PACK OF 60 PINK PAISLEY CAKE CASES    24163\n",
       "Name: Quantity, dtype: int64"
      ]
     },
     "execution_count": 28,
     "metadata": {},
     "output_type": "execute_result"
    }
   ],
   "source": [
    "print(\"\\nTotal Quantity Sold of each Product:\")\n",
    "# total_quantity_sold = pd.DataFrame(total_quantity_sold)\n",
    "total_quantity_sold.sort_values(ascending=False).head(10)"
   ]
  },
  {
   "cell_type": "code",
   "execution_count": 29,
   "id": "c6f7ab89",
   "metadata": {},
   "outputs": [
    {
     "data": {
      "image/png": "[encoded data removed]",
      "text/plain": [
       "<Figure size 720x432 with 1 Axes>"
      ]
     },
     "metadata": {
      "needs_background": "light"
     },
     "output_type": "display_data"
    },
    {
     "data": {
      "image/png": "[encoded data removed]",
      "text/plain": [
       "<Figure size 720x432 with 1 Axes>"
      ]
     },
     "metadata": {
      "needs_background": "light"
     },
     "output_type": "display_data"
    }
   ],
   "source": [
    "%matplotlib inline\n",
    "\n",
    "# Plot total quantity sold for each product\n",
    "plt.figure(figsize=(10, 6))\n",
    "total_quantity_sold.sort_values(ascending=False).head(10).plot(kind='bar')\n",
    "plt.title('Top 10 Products by Total Quantity Sold')\n",
    "plt.xlabel('Product Description')\n",
    "plt.ylabel('Total Quantity Sold')\n",
    "plt.xticks(rotation=90)\n",
    "plt.show()\n",
    "\n",
    "# Plot total revenue generated for each product\n",
    "plt.figure(figsize=(10, 6))\n",
    "average_unit_price.sort_values(ascending=False).head(10).plot(kind='bar')\n",
    "# data.groupby('Description')['TotalPrice'].sum().sort_values(ascending=False)[:10].plot(kind='bar')\n",
    "plt.title('Top 10 Products by Total Price Generated')\n",
    "plt.xlabel('Product Description')\n",
    "plt.ylabel('Total Revenue Generated')\n",
    "plt.xticks(rotation=90)\n",
    "plt.show()\n"
   ]
  },
  {
   "cell_type": "code",
   "execution_count": 30,
   "id": "5844c1b2",
   "metadata": {},
   "outputs": [],
   "source": [
    "import numpy as np\n",
    "import matplotlib.pyplot as plt\n",
    "import seaborn as sns\n",
    "from sklearn.model_selection import train_test_split\n",
    "from sklearn.linear_model import LinearRegression\n",
    "from sklearn.metrics import mean_squared_error"
   ]
  },
  {
   "cell_type": "markdown",
   "id": "577dcea6",
   "metadata": {},
   "source": [
    "## Quantifying the Impact of Discounts:"
   ]
  },
  {
   "cell_type": "code",
   "execution_count": 31,
   "id": "305baa69",
   "metadata": {},
   "outputs": [],
   "source": [
    "# Analyze the effect of discounts on sales\n",
    "sales_with_discounts = data[data['DiscountedPrice'] < data['UnitPrice']]\n",
    "sales_without_discounts = data[data['DiscountedPrice'] == data['UnitPrice']]"
   ]
  },
  {
   "cell_type": "code",
   "execution_count": 32,
   "id": "39a7af9d",
   "metadata": {},
   "outputs": [
    {
     "name": "stdout",
     "output_type": "stream",
     "text": [
      "Sales Volume (Discounted): -274808 units\n",
      "Sales Volume (Non-Discounted): 87185 units\n",
      "Revenue (Discounted): $ -611342.0900000001\n",
      "Revenue (Non-Discounted): $ 382864.7040000001\n"
     ]
    }
   ],
   "source": [
    "# Compare sales volume and revenue between discounted and non-discounted products\n",
    "discounted_sales_volume = sales_with_discounts['Quantity'].sum()\n",
    "non_discounted_sales_volume = sales_without_discounts['Quantity'].sum()\n",
    "\n",
    "discounted_revenue = sales_with_discounts['TotalPrice'].sum()\n",
    "non_discounted_revenue = sales_without_discounts['TotalPrice'].sum()\n",
    "\n",
    "print(\"Sales Volume (Discounted):\", discounted_sales_volume, 'units')\n",
    "print(\"Sales Volume (Non-Discounted):\", non_discounted_sales_volume, 'units')\n",
    "print(\"Revenue (Discounted):\" ,'$', discounted_revenue)\n",
    "print(\"Revenue (Non-Discounted):\", '$', non_discounted_revenue)"
   ]
  },
  {
   "cell_type": "markdown",
   "id": "74dd3907",
   "metadata": {},
   "source": [
    "## Customer Segmentation:"
   ]
  },
  {
   "cell_type": "markdown",
   "id": "7ee71b13",
   "metadata": {},
   "source": [
    "**Use RFM (Recency, Frequency, Monetary) analysis for customer segmentation**"
   ]
  },
  {
   "cell_type": "code",
   "execution_count": 33,
   "id": "51029480",
   "metadata": {},
   "outputs": [
    {
     "ename": "ValueError",
     "evalue": "Multi-dimensional indexing (e.g. `obj[:, None]`) is no longer supported. Convert to a numpy array before indexing instead.",
     "output_type": "error",
     "traceback": [
      "\u001b[1;31m---------------------------------------------------------------------------\u001b[0m",
      "\u001b[1;31mValueError\u001b[0m                                Traceback (most recent call last)",
      "\u001b[1;32mC:\\Users\\HOLART~1\\AppData\\Local\\Temp/ipykernel_5708/1916887473.py\u001b[0m in \u001b[0;36m<module>\u001b[1;34m\u001b[0m\n\u001b[0;32m     16\u001b[0m \u001b[1;33m\u001b[0m\u001b[0m\n\u001b[0;32m     17\u001b[0m \u001b[0mplt\u001b[0m\u001b[1;33m.\u001b[0m\u001b[0msubplot\u001b[0m\u001b[1;33m(\u001b[0m\u001b[1;36m3\u001b[0m\u001b[1;33m,\u001b[0m \u001b[1;36m1\u001b[0m\u001b[1;33m,\u001b[0m \u001b[1;36m1\u001b[0m\u001b[1;33m)\u001b[0m\u001b[1;33m\u001b[0m\u001b[1;33m\u001b[0m\u001b[0m\n\u001b[1;32m---> 18\u001b[1;33m \u001b[0msns\u001b[0m\u001b[1;33m.\u001b[0m\u001b[0mhistplot\u001b[0m\u001b[1;33m(\u001b[0m\u001b[0mrfm_data\u001b[0m\u001b[1;33m[\u001b[0m\u001b[1;34m'Recency'\u001b[0m\u001b[1;33m]\u001b[0m\u001b[1;33m,\u001b[0m \u001b[0mkde\u001b[0m\u001b[1;33m=\u001b[0m\u001b[1;32mTrue\u001b[0m\u001b[1;33m)\u001b[0m\u001b[1;33m\u001b[0m\u001b[1;33m\u001b[0m\u001b[0m\n\u001b[0m\u001b[0;32m     19\u001b[0m \u001b[0mplt\u001b[0m\u001b[1;33m.\u001b[0m\u001b[0mtitle\u001b[0m\u001b[1;33m(\u001b[0m\u001b[1;34m'Recency Distribution'\u001b[0m\u001b[1;33m)\u001b[0m\u001b[1;33m\u001b[0m\u001b[1;33m\u001b[0m\u001b[0m\n\u001b[0;32m     20\u001b[0m \u001b[1;33m\u001b[0m\u001b[0m\n",
      "\u001b[1;32m~\\anaconda3\\lib\\site-packages\\seaborn\\distributions.py\u001b[0m in \u001b[0;36mhistplot\u001b[1;34m(data, x, y, hue, weights, stat, bins, binwidth, binrange, discrete, cumulative, common_bins, common_norm, multiple, element, fill, shrink, kde, kde_kws, line_kws, thresh, pthresh, pmax, cbar, cbar_ax, cbar_kws, palette, hue_order, hue_norm, color, log_scale, legend, ax, **kwargs)\u001b[0m\n\u001b[0;32m   1414\u001b[0m     \u001b[1;32mif\u001b[0m \u001b[0mp\u001b[0m\u001b[1;33m.\u001b[0m\u001b[0munivariate\u001b[0m\u001b[1;33m:\u001b[0m\u001b[1;33m\u001b[0m\u001b[1;33m\u001b[0m\u001b[0m\n\u001b[0;32m   1415\u001b[0m \u001b[1;33m\u001b[0m\u001b[0m\n\u001b[1;32m-> 1416\u001b[1;33m         p.plot_univariate_histogram(\n\u001b[0m\u001b[0;32m   1417\u001b[0m             \u001b[0mmultiple\u001b[0m\u001b[1;33m=\u001b[0m\u001b[0mmultiple\u001b[0m\u001b[1;33m,\u001b[0m\u001b[1;33m\u001b[0m\u001b[1;33m\u001b[0m\u001b[0m\n\u001b[0;32m   1418\u001b[0m             \u001b[0melement\u001b[0m\u001b[1;33m=\u001b[0m\u001b[0melement\u001b[0m\u001b[1;33m,\u001b[0m\u001b[1;33m\u001b[0m\u001b[1;33m\u001b[0m\u001b[0m\n",
      "\u001b[1;32m~\\anaconda3\\lib\\site-packages\\seaborn\\distributions.py\u001b[0m in \u001b[0;36mplot_univariate_histogram\u001b[1;34m(self, multiple, element, fill, common_norm, common_bins, shrink, kde, kde_kws, color, legend, line_kws, estimate_kws, **plot_kws)\u001b[0m\n\u001b[0;32m    649\u001b[0m \u001b[1;33m\u001b[0m\u001b[0m\n\u001b[0;32m    650\u001b[0m                 \u001b[0mline_kws\u001b[0m\u001b[1;33m[\u001b[0m\u001b[1;34m\"color\"\u001b[0m\u001b[1;33m]\u001b[0m \u001b[1;33m=\u001b[0m \u001b[0mto_rgba\u001b[0m\u001b[1;33m(\u001b[0m\u001b[0msub_color\u001b[0m\u001b[1;33m,\u001b[0m \u001b[1;36m1\u001b[0m\u001b[1;33m)\u001b[0m\u001b[1;33m\u001b[0m\u001b[1;33m\u001b[0m\u001b[0m\n\u001b[1;32m--> 651\u001b[1;33m                 line, = ax.plot(\n\u001b[0m\u001b[0;32m    652\u001b[0m                     \u001b[1;33m*\u001b[0m\u001b[0mline_args\u001b[0m\u001b[1;33m,\u001b[0m \u001b[1;33m**\u001b[0m\u001b[0mline_kws\u001b[0m\u001b[1;33m,\u001b[0m\u001b[1;33m\u001b[0m\u001b[1;33m\u001b[0m\u001b[0m\n\u001b[0;32m    653\u001b[0m                 )\n",
      "\u001b[1;32m~\\anaconda3\\lib\\site-packages\\matplotlib\\axes\\_axes.py\u001b[0m in \u001b[0;36mplot\u001b[1;34m(self, scalex, scaley, data, *args, **kwargs)\u001b[0m\n\u001b[0;32m   1603\u001b[0m         \"\"\"\n\u001b[0;32m   1604\u001b[0m         \u001b[0mkwargs\u001b[0m \u001b[1;33m=\u001b[0m \u001b[0mcbook\u001b[0m\u001b[1;33m.\u001b[0m\u001b[0mnormalize_kwargs\u001b[0m\u001b[1;33m(\u001b[0m\u001b[0mkwargs\u001b[0m\u001b[1;33m,\u001b[0m \u001b[0mmlines\u001b[0m\u001b[1;33m.\u001b[0m\u001b[0mLine2D\u001b[0m\u001b[1;33m)\u001b[0m\u001b[1;33m\u001b[0m\u001b[1;33m\u001b[0m\u001b[0m\n\u001b[1;32m-> 1605\u001b[1;33m         \u001b[0mlines\u001b[0m \u001b[1;33m=\u001b[0m \u001b[1;33m[\u001b[0m\u001b[1;33m*\u001b[0m\u001b[0mself\u001b[0m\u001b[1;33m.\u001b[0m\u001b[0m_get_lines\u001b[0m\u001b[1;33m(\u001b[0m\u001b[1;33m*\u001b[0m\u001b[0margs\u001b[0m\u001b[1;33m,\u001b[0m \u001b[0mdata\u001b[0m\u001b[1;33m=\u001b[0m\u001b[0mdata\u001b[0m\u001b[1;33m,\u001b[0m \u001b[1;33m**\u001b[0m\u001b[0mkwargs\u001b[0m\u001b[1;33m)\u001b[0m\u001b[1;33m]\u001b[0m\u001b[1;33m\u001b[0m\u001b[1;33m\u001b[0m\u001b[0m\n\u001b[0m\u001b[0;32m   1606\u001b[0m         \u001b[1;32mfor\u001b[0m \u001b[0mline\u001b[0m \u001b[1;32min\u001b[0m \u001b[0mlines\u001b[0m\u001b[1;33m:\u001b[0m\u001b[1;33m\u001b[0m\u001b[1;33m\u001b[0m\u001b[0m\n\u001b[0;32m   1607\u001b[0m             \u001b[0mself\u001b[0m\u001b[1;33m.\u001b[0m\u001b[0madd_line\u001b[0m\u001b[1;33m(\u001b[0m\u001b[0mline\u001b[0m\u001b[1;33m)\u001b[0m\u001b[1;33m\u001b[0m\u001b[1;33m\u001b[0m\u001b[0m\n",
      "\u001b[1;32m~\\anaconda3\\lib\\site-packages\\matplotlib\\axes\\_base.py\u001b[0m in \u001b[0;36m__call__\u001b[1;34m(self, data, *args, **kwargs)\u001b[0m\n\u001b[0;32m    313\u001b[0m                 \u001b[0mthis\u001b[0m \u001b[1;33m+=\u001b[0m \u001b[0margs\u001b[0m\u001b[1;33m[\u001b[0m\u001b[1;36m0\u001b[0m\u001b[1;33m]\u001b[0m\u001b[1;33m,\u001b[0m\u001b[1;33m\u001b[0m\u001b[1;33m\u001b[0m\u001b[0m\n\u001b[0;32m    314\u001b[0m                 \u001b[0margs\u001b[0m \u001b[1;33m=\u001b[0m \u001b[0margs\u001b[0m\u001b[1;33m[\u001b[0m\u001b[1;36m1\u001b[0m\u001b[1;33m:\u001b[0m\u001b[1;33m]\u001b[0m\u001b[1;33m\u001b[0m\u001b[1;33m\u001b[0m\u001b[0m\n\u001b[1;32m--> 315\u001b[1;33m             \u001b[1;32myield\u001b[0m \u001b[1;32mfrom\u001b[0m \u001b[0mself\u001b[0m\u001b[1;33m.\u001b[0m\u001b[0m_plot_args\u001b[0m\u001b[1;33m(\u001b[0m\u001b[0mthis\u001b[0m\u001b[1;33m,\u001b[0m \u001b[0mkwargs\u001b[0m\u001b[1;33m)\u001b[0m\u001b[1;33m\u001b[0m\u001b[1;33m\u001b[0m\u001b[0m\n\u001b[0m\u001b[0;32m    316\u001b[0m \u001b[1;33m\u001b[0m\u001b[0m\n\u001b[0;32m    317\u001b[0m     \u001b[1;32mdef\u001b[0m \u001b[0mget_next_color\u001b[0m\u001b[1;33m(\u001b[0m\u001b[0mself\u001b[0m\u001b[1;33m)\u001b[0m\u001b[1;33m:\u001b[0m\u001b[1;33m\u001b[0m\u001b[1;33m\u001b[0m\u001b[0m\n",
      "\u001b[1;32m~\\anaconda3\\lib\\site-packages\\matplotlib\\axes\\_base.py\u001b[0m in \u001b[0;36m_plot_args\u001b[1;34m(self, tup, kwargs, return_kwargs)\u001b[0m\n\u001b[0;32m    488\u001b[0m \u001b[1;33m\u001b[0m\u001b[0m\n\u001b[0;32m    489\u001b[0m         \u001b[1;32mif\u001b[0m \u001b[0mlen\u001b[0m\u001b[1;33m(\u001b[0m\u001b[0mxy\u001b[0m\u001b[1;33m)\u001b[0m \u001b[1;33m==\u001b[0m \u001b[1;36m2\u001b[0m\u001b[1;33m:\u001b[0m\u001b[1;33m\u001b[0m\u001b[1;33m\u001b[0m\u001b[0m\n\u001b[1;32m--> 490\u001b[1;33m             \u001b[0mx\u001b[0m \u001b[1;33m=\u001b[0m \u001b[0m_check_1d\u001b[0m\u001b[1;33m(\u001b[0m\u001b[0mxy\u001b[0m\u001b[1;33m[\u001b[0m\u001b[1;36m0\u001b[0m\u001b[1;33m]\u001b[0m\u001b[1;33m)\u001b[0m\u001b[1;33m\u001b[0m\u001b[1;33m\u001b[0m\u001b[0m\n\u001b[0m\u001b[0;32m    491\u001b[0m             \u001b[0my\u001b[0m \u001b[1;33m=\u001b[0m \u001b[0m_check_1d\u001b[0m\u001b[1;33m(\u001b[0m\u001b[0mxy\u001b[0m\u001b[1;33m[\u001b[0m\u001b[1;36m1\u001b[0m\u001b[1;33m]\u001b[0m\u001b[1;33m)\u001b[0m\u001b[1;33m\u001b[0m\u001b[1;33m\u001b[0m\u001b[0m\n\u001b[0;32m    492\u001b[0m         \u001b[1;32melse\u001b[0m\u001b[1;33m:\u001b[0m\u001b[1;33m\u001b[0m\u001b[1;33m\u001b[0m\u001b[0m\n",
      "\u001b[1;32m~\\anaconda3\\lib\\site-packages\\matplotlib\\cbook\\__init__.py\u001b[0m in \u001b[0;36m_check_1d\u001b[1;34m(x)\u001b[0m\n\u001b[0;32m   1360\u001b[0m                     message='Support for multi-dimensional indexing')\n\u001b[0;32m   1361\u001b[0m \u001b[1;33m\u001b[0m\u001b[0m\n\u001b[1;32m-> 1362\u001b[1;33m                 \u001b[0mndim\u001b[0m \u001b[1;33m=\u001b[0m \u001b[0mx\u001b[0m\u001b[1;33m[\u001b[0m\u001b[1;33m:\u001b[0m\u001b[1;33m,\u001b[0m \u001b[1;32mNone\u001b[0m\u001b[1;33m]\u001b[0m\u001b[1;33m.\u001b[0m\u001b[0mndim\u001b[0m\u001b[1;33m\u001b[0m\u001b[1;33m\u001b[0m\u001b[0m\n\u001b[0m\u001b[0;32m   1363\u001b[0m                 \u001b[1;31m# we have definitely hit a pandas index or series object\u001b[0m\u001b[1;33m\u001b[0m\u001b[1;33m\u001b[0m\u001b[0m\n\u001b[0;32m   1364\u001b[0m                 \u001b[1;31m# cast to a numpy array.\u001b[0m\u001b[1;33m\u001b[0m\u001b[1;33m\u001b[0m\u001b[0m\n",
      "\u001b[1;32m~\\anaconda3\\lib\\site-packages\\pandas\\core\\indexes\\base.py\u001b[0m in \u001b[0;36m__getitem__\u001b[1;34m(self, key)\u001b[0m\n\u001b[0;32m   5417\u001b[0m         \u001b[1;31m# Because we ruled out integer above, we always get an arraylike here\u001b[0m\u001b[1;33m\u001b[0m\u001b[1;33m\u001b[0m\u001b[0m\n\u001b[0;32m   5418\u001b[0m         \u001b[1;32mif\u001b[0m \u001b[0mresult\u001b[0m\u001b[1;33m.\u001b[0m\u001b[0mndim\u001b[0m \u001b[1;33m>\u001b[0m \u001b[1;36m1\u001b[0m\u001b[1;33m:\u001b[0m\u001b[1;33m\u001b[0m\u001b[1;33m\u001b[0m\u001b[0m\n\u001b[1;32m-> 5419\u001b[1;33m             \u001b[0mdisallow_ndim_indexing\u001b[0m\u001b[1;33m(\u001b[0m\u001b[0mresult\u001b[0m\u001b[1;33m)\u001b[0m\u001b[1;33m\u001b[0m\u001b[1;33m\u001b[0m\u001b[0m\n\u001b[0m\u001b[0;32m   5420\u001b[0m \u001b[1;33m\u001b[0m\u001b[0m\n\u001b[0;32m   5421\u001b[0m         \u001b[1;31m# NB: Using _constructor._simple_new would break if MultiIndex\u001b[0m\u001b[1;33m\u001b[0m\u001b[1;33m\u001b[0m\u001b[0m\n",
      "\u001b[1;32m~\\anaconda3\\lib\\site-packages\\pandas\\core\\indexers\\utils.py\u001b[0m in \u001b[0;36mdisallow_ndim_indexing\u001b[1;34m(result)\u001b[0m\n\u001b[0;32m    339\u001b[0m     \"\"\"\n\u001b[0;32m    340\u001b[0m     \u001b[1;32mif\u001b[0m \u001b[0mnp\u001b[0m\u001b[1;33m.\u001b[0m\u001b[0mndim\u001b[0m\u001b[1;33m(\u001b[0m\u001b[0mresult\u001b[0m\u001b[1;33m)\u001b[0m \u001b[1;33m>\u001b[0m \u001b[1;36m1\u001b[0m\u001b[1;33m:\u001b[0m\u001b[1;33m\u001b[0m\u001b[1;33m\u001b[0m\u001b[0m\n\u001b[1;32m--> 341\u001b[1;33m         raise ValueError(\n\u001b[0m\u001b[0;32m    342\u001b[0m             \u001b[1;34m\"Multi-dimensional indexing (e.g. `obj[:, None]`) is no longer \"\u001b[0m\u001b[1;33m\u001b[0m\u001b[1;33m\u001b[0m\u001b[0m\n\u001b[0;32m    343\u001b[0m             \u001b[1;34m\"supported. Convert to a numpy array before indexing instead.\"\u001b[0m\u001b[1;33m\u001b[0m\u001b[1;33m\u001b[0m\u001b[0m\n",
      "\u001b[1;31mValueError\u001b[0m: Multi-dimensional indexing (e.g. `obj[:, None]`) is no longer supported. Convert to a numpy array before indexing instead."
     ]
    },
    {
     "data": {
      "image/png": "[encoded data removed]",
      "text/plain": [
       "<Figure size 864x576 with 1 Axes>"
      ]
     },
     "metadata": {
      "needs_background": "light"
     },
     "output_type": "display_data"
    }
   ],
   "source": [
    "# Calculate RFM metrics for each customer\n",
    "# Calculate Recency, Frequency, and Monetary values\n",
    "today = pd.to_datetime('today')\n",
    "rfm_data = data.groupby('CustomerID').agg({\n",
    "    'InvoiceDate': lambda x: (today - x.max()).days,  # Recency\n",
    "    'Quantity': 'sum',  # Frequency (assuming each row represents a purchase)\n",
    "    'TotalPrice': 'sum'  # Monetary\n",
    "}).rename(columns={\n",
    "    'InvoiceDate': 'Recency',\n",
    "    'Quantity': 'Frequency',\n",
    "    'TotalPrice': 'Monetary'\n",
    "})\n",
    "\n",
    "# Visualize the RFM data distribution\n",
    "plt.figure(figsize=(12, 8))\n",
    "\n",
    "plt.subplot(3, 1, 1)\n",
    "sns.histplot(rfm_data['Recency'], kde=True)\n",
    "plt.title('Recency Distribution')\n",
    "\n",
    "plt.subplot(3, 1, 2)\n",
    "sns.histplot(rfm_data['Frequency'], kde=True)\n",
    "plt.title('Frequency Distribution')\n",
    "\n",
    "plt.subplot(3, 1, 3)\n",
    "sns.histplot(rfm_data['Monetary'], kde=True)\n",
    "plt.title('Monetary Distribution')\n",
    "\n",
    "plt.tight_layout()\n",
    "plt.show()\n",
    "\n",
    "\n",
    "\n"
   ]
  },
  {
   "cell_type": "code",
   "execution_count": 34,
   "id": "ed319711",
   "metadata": {},
   "outputs": [
    {
     "name": "stdout",
     "output_type": "stream",
     "text": [
      "Frequency of discount transactions: 77\n",
      "Total amount discounted: -5696.219999999999\n",
      "Impact on revenue (absolute value): 5696.219999999999\n"
     ]
    }
   ],
   "source": [
    "# Filter the dataset to include only discount transactions\n",
    "discount_transactions = data[(data['Description'] == 'Discount') & (data['Quantity'] < 0)]\n",
    "\n",
    "# Calculate the frequency of discount transactions\n",
    "discount_frequency = len(discount_transactions)\n",
    "\n",
    "# Calculate the total amount discounted\n",
    "total_discount_amount = discount_transactions['TotalPrice'].sum()\n",
    "\n",
    "# Calculate the impact on revenue\n",
    "total_revenue_impact = abs(discount_transactions['TotalPrice'].sum())\n",
    "\n",
    "print(\"Frequency of discount transactions:\", discount_frequency)\n",
    "print(\"Total amount discounted:\", total_discount_amount)\n",
    "print(\"Impact on revenue (absolute value):\", total_revenue_impact)"
   ]
  },
  {
   "cell_type": "markdown",
   "id": "c1b3fff1",
   "metadata": {},
   "source": [
    "## Calculating the RFM metrics for each customer"
   ]
  },
  {
   "cell_type": "code",
   "execution_count": 35,
   "id": "425d6ace",
   "metadata": {},
   "outputs": [],
   "source": [
    "# Convert 'InvoiceDate' column to datetime format\n",
    "data['InvoiceDate'] = pd.to_datetime(data['InvoiceDate'])\n",
    "\n",
    "# Find the most recent purchase date\n",
    "most_recent_date = data['InvoiceDate'].max()\n",
    "\n",
    "# Calculate recency for each customer\n",
    "data['Recency'] = most_recent_date - data.groupby('CustomerID')['InvoiceDate'].transform('max')\n",
    "\n",
    "# Convert recency to number of days\n",
    "data['Recency'] = data['Recency'].dt.days"
   ]
  },
  {
   "cell_type": "code",
   "execution_count": 36,
   "id": "c9c7e67f",
   "metadata": {},
   "outputs": [],
   "source": [
    "# pip uninstall seaborn matplotlib"
   ]
  },
  {
   "cell_type": "code",
   "execution_count": 37,
   "id": "241fe046",
   "metadata": {},
   "outputs": [
    {
     "name": "stdout",
     "output_type": "stream",
     "text": [
      "   CustomerID         InvoiceDate  Recency\n",
      "0     17850.0 2010-12-01 08:26:00      301\n",
      "1     17850.0 2010-12-01 08:26:00      301\n",
      "2     17850.0 2010-12-01 08:26:00      301\n",
      "3     17850.0 2010-12-01 08:26:00      301\n",
      "4     17850.0 2010-12-01 08:26:00      301\n"
     ]
    }
   ],
   "source": [
    "# Displaying the first few rows of the dataframe to verify the results\n",
    "print(data[['CustomerID', 'InvoiceDate', 'Recency']].head())"
   ]
  },
  {
   "cell_type": "code",
   "execution_count": 38,
   "id": "2790fd95",
   "metadata": {},
   "outputs": [
    {
     "name": "stdout",
     "output_type": "stream",
     "text": [
      "Recency:\n",
      "   CustomerID MostRecentPurchaseDate  Recency\n",
      "0     12346.0    2011-01-18 10:17:00      325\n",
      "1     12347.0    2011-12-07 15:52:00        1\n",
      "2     12348.0    2011-09-25 13:13:00       74\n",
      "3     12349.0    2011-11-21 09:51:00       18\n",
      "4     12350.0    2011-02-02 16:01:00      309\n"
     ]
    }
   ],
   "source": [
    "# Calculate the most recent purchase date for each customer\n",
    "recency = data.groupby('CustomerID')['InvoiceDate'].max().reset_index()\n",
    "# print(recency)\n",
    "recency.columns = ['CustomerID', 'MostRecentPurchaseDate']\n",
    "\n",
    "# Calculate the number of days since the most recent purchase\n",
    "recency['Recency'] = (data['InvoiceDate'].max() - recency['MostRecentPurchaseDate']).dt.days\n",
    "\n",
    "# Displaying the first few rows of the Recency dataframe\n",
    "print(\"Recency:\")\n",
    "print(recency.head())\n"
   ]
  },
  {
   "cell_type": "markdown",
   "id": "2cfc6d97",
   "metadata": {},
   "source": [
    "## Calculate the Frequency and Monetary Value metrics for customer segmentation using RFM analysis."
   ]
  },
  {
   "cell_type": "code",
   "execution_count": 39,
   "id": "060fad46",
   "metadata": {},
   "outputs": [
    {
     "name": "stdout",
     "output_type": "stream",
     "text": [
      "Frequency:\n",
      "   CustomerID  Frequency\n",
      "0     12346.0          2\n",
      "1     12347.0          7\n",
      "2     12348.0          4\n",
      "3     12349.0          1\n",
      "4     12350.0          1\n",
      "\n",
      "Monetary Value:\n",
      "   CustomerID  MonetaryValue\n",
      "0     12346.0           0.00\n",
      "1     12347.0        4310.00\n",
      "2     12348.0        1797.24\n",
      "3     12349.0        1757.55\n",
      "4     12350.0         334.40\n"
     ]
    }
   ],
   "source": [
    "# Calculate Frequency (Number of purchases) for each customer\n",
    "frequency = data.groupby('CustomerID')['InvoiceNo'].nunique().reset_index()\n",
    "frequency.columns = ['CustomerID', 'Frequency']\n",
    "\n",
    "# Calculate Monetary Value (Total amount spent) for each customer\n",
    "monetary_value = data.groupby('CustomerID')['TotalPrice'].sum().reset_index()\n",
    "monetary_value.columns = ['CustomerID', 'MonetaryValue']\n",
    "\n",
    "# Displaying the first few rows of the Frequency and Monetary Value dataframes\n",
    "print(\"Frequency:\")\n",
    "print(frequency.head())\n",
    "print(\"\\nMonetary Value:\")\n",
    "print(monetary_value.head())\n"
   ]
  },
  {
   "cell_type": "code",
   "execution_count": 40,
   "id": "302ea7ad",
   "metadata": {},
   "outputs": [
    {
     "name": "stdout",
     "output_type": "stream",
     "text": [
      "RFM Table:\n",
      "   CustomerID  Recency  Frequency  MonetaryValue\n",
      "0     12346.0      325          2           0.00\n",
      "1     12347.0        1          7        4310.00\n",
      "2     12348.0       74          4        1797.24\n",
      "3     12349.0       18          1        1757.55\n",
      "4     12350.0      309          1         334.40\n"
     ]
    }
   ],
   "source": [
    "# Merge Frequency, Monetary, and Recency dataframes\n",
    "rfm_table = pd.merge(recency[['CustomerID', 'Recency']], frequency[['CustomerID', 'Frequency']], on='CustomerID')\n",
    "rfm_table = pd.merge(rfm_table, monetary_value[['CustomerID', 'MonetaryValue']], on='CustomerID')\n",
    "\n",
    "# Displaying the first few rows of the RFM table\n",
    "print(\"RFM Table:\")\n",
    "print(rfm_table.head())\n"
   ]
  },
  {
   "cell_type": "code",
   "execution_count": 41,
   "id": "bea001b2",
   "metadata": {},
   "outputs": [
    {
     "name": "stdout",
     "output_type": "stream",
     "text": [
      "Segmented RFM Table:\n",
      "   CustomerID  Recency  Frequency  MonetaryValue     Segment\n",
      "0     12346.0      325          2           0.00   Low Value\n",
      "1     12347.0        1          7        4310.00  High Value\n",
      "2     12348.0       74          4        1797.24  High Value\n",
      "3     12349.0       18          1        1757.55   Low Value\n",
      "4     12350.0      309          1         334.40   Low Value\n"
     ]
    }
   ],
   "source": [
    "# Define function to segment customers based on RFM values\n",
    "def segment_customers(row):\n",
    "    if row['Recency'] <= recency_threshold and row['Frequency'] >= frequency_threshold and row['MonetaryValue'] >= monetary_threshold:\n",
    "        return 'High Value'\n",
    "    elif row['Recency'] <= recency_threshold and row['Frequency'] >= frequency_threshold:\n",
    "        return 'Mid Value'\n",
    "    else:\n",
    "        return 'Low Value'\n",
    "\n",
    "# Set thresholds for segmentation\n",
    "recency_threshold = 90  # Customers who made a purchase within the last 90 days are considered \"recent\"\n",
    "frequency_threshold = 3  # Customers who made at least 3 purchases are considered \"frequent\"\n",
    "monetary_threshold = 1000  # Customers who spent at least $1000 are considered \"high spenders\"\n",
    "\n",
    "# Apply segmentation function to each row in the RFM table\n",
    "rfm_table['Segment'] = rfm_table.apply(segment_customers, axis=1)\n",
    "\n",
    "# Displaying the segmented RFM table\n",
    "print(\"Segmented RFM Table:\")\n",
    "print(rfm_table.head())\n"
   ]
  },
  {
   "cell_type": "code",
   "execution_count": null,
   "id": "e95c1fe7",
   "metadata": {},
   "outputs": [],
   "source": [
    "# import smtplib\n",
    "# from email.mime.multipart import MIMEMultipart\n",
    "# from email.mime.text import MIMEText\n",
    "\n",
    "# # Define your email service credentials\n",
    "# EMAIL_HOST = 'smtp.example.com'\n",
    "# EMAIL_PORT = 587\n",
    "# EMAIL_USERNAME = 'your_email@example.com'\n",
    "# EMAIL_PASSWORD = 'your_email_password'\n",
    "\n",
    "# # Function to send email\n",
    "# def send_email(recipients, subject, body):\n",
    "#     try:\n",
    "#         # Set up the SMTP server\n",
    "#         server = smtplib.SMTP(host=EMAIL_HOST, port=EMAIL_PORT)\n",
    "#         server.starttls()\n",
    "#         server.login(EMAIL_USERNAME, EMAIL_PASSWORD)\n",
    "\n",
    "#         # Create message\n",
    "#         message = MIMEMultipart()\n",
    "#         message['From'] = EMAIL_USERNAME\n",
    "#         message['To'] = ', '.join(recipients)\n",
    "#         message['Subject'] = subject\n",
    "\n",
    "#         # Add body to message\n",
    "#         message.attach(MIMEText(body, 'plain'))\n",
    "\n",
    "#         # Send email\n",
    "#         server.sendmail(EMAIL_USERNAME, recipients, message.as_string())\n",
    "#         print(\"Email sent successfully!\")\n",
    "\n",
    "#     except Exception as e:\n",
    "#         print(f\"Failed to send email: {str(e)}\")\n",
    "#     finally:\n",
    "#         # Close SMTP connection\n",
    "#         server.quit()\n",
    "\n",
    "# # Define marketing content for each RFM segment\n",
    "# segment_marketing_content = {\n",
    "#     'High Value': 'Exclusive offers and VIP discounts for our most loyal customers!',\n",
    "#     'Mid Value': 'Discover new products and promotions tailored just for you!',\n",
    "#     'Low Value': 'Welcome back! Here are some special offers to thank you for shopping with us.'\n",
    "# }\n",
    "\n",
    "# # Segment customers and send targeted email campaigns\n",
    "# for segment, content in segment_marketing_content.items():\n",
    "#     # Select customers belonging to the current segment\n",
    "#     segment_customers = rfm_table[rfm_table['Segment'] == segment]\n",
    "    \n",
    "#     # Craft personalized email content\n",
    "#     email_subject = f\"🎉 {segment} Customer Exclusive Offer Inside! 🎁\"\n",
    "#     email_body = f\"Hi there,\\n\\n{content}\\n\\nShop now and enjoy your special offer!\\n\\nBest regards,\\nThe Marketing Team\"\n",
    "    \n",
    "#     # Send email campaign to segment_customers\n",
    "#     email_service.send_email(segment_customers['Email'], email_subject, email_body)\n"
   ]
  },
  {
   "cell_type": "code",
   "execution_count": 44,
   "id": "bfa0eaa8",
   "metadata": {},
   "outputs": [],
   "source": [
    "# Perform one-hot encoding on the 'Country' column\n",
    "data_dummy = pd.get_dummies(data, columns=['Country'], prefix='Country')"
   ]
  },
  {
   "cell_type": "code",
   "execution_count": 45,
   "id": "8779e9d3",
   "metadata": {},
   "outputs": [
    {
     "data": {
      "text/plain": [
       "Index(['InvoiceNo', 'StockCode', 'Description', 'Quantity', 'InvoiceDate',\n",
       "       'UnitPrice', 'CustomerID', 'Country', 'TotalPrice', 'DiscountedPrice',\n",
       "       'Recency'],\n",
       "      dtype='object')"
      ]
     },
     "execution_count": 45,
     "metadata": {},
     "output_type": "execute_result"
    }
   ],
   "source": [
    "data.columns"
   ]
  },
  {
   "cell_type": "code",
   "execution_count": 46,
   "id": "afcab28d",
   "metadata": {},
   "outputs": [],
   "source": [
    "# # Generate optimal prices (target variable)\n",
    "\n",
    "# # Step 2: Feature Engineering (No additional feature engineering needed for now)\n",
    "\n",
    "# # Step 3: Training Data Creation\n",
    "# X = data[['Quantity', 'Country_Australia', 'Country_Austria', 'Country_Bahrain',\n",
    "#        'Country_Belgium', 'Country_Brazil', 'Country_Canada',\n",
    "#        'Country_Channel Islands', 'Country_Cyprus', 'Country_Czech Republic',\n",
    "#        'Country_Denmark', 'Country_EIRE', 'Country_European Community',\n",
    "#        'Country_Finland', 'Country_France', 'Country_Germany',\n",
    "#        'Country_Greece', 'Country_Iceland', 'Country_Israel', 'Country_Italy',\n",
    "#        'Country_Japan', 'Country_Lebanon', 'Country_Lithuania',\n",
    "#        'Country_Malta', 'Country_Netherlands', 'Country_Norway',\n",
    "#        'Country_Poland', 'Country_Portugal', 'Country_RSA',\n",
    "#        'Country_Saudi Arabia', 'Country_Singapore', 'Country_Spain',\n",
    "#        'Country_Sweden', 'Country_Switzerland', 'Country_USA',\n",
    "#        'Country_United Arab Emirates', 'Country_United Kingdom',]]\n",
    "# y = data['OptimalPrice']\n",
    "\n",
    "# # Step 4: Model Training\n",
    "# X_train, X_test, y_train, y_test = train_test_split(X, y, test_size=0.2, random_state=42)\n",
    "# model = LinearRegression()\n",
    "# model.fit(X_train, y_train)\n",
    "\n",
    "# # Step 5: Model Evaluation\n",
    "# y_pred = model.predict(X_test)\n",
    "# mse = mean_squared_error(y_test, y_pred)\n",
    "# print(\"Mean Squared Error:\", mse)"
   ]
  },
  {
   "cell_type": "markdown",
   "id": "86ed503f",
   "metadata": {},
   "source": [
    "## Checking outliers in total price and quantity"
   ]
  },
  {
   "cell_type": "code",
   "execution_count": 47,
   "id": "7f05cbe5",
   "metadata": {},
   "outputs": [
    {
     "name": "stdout",
     "output_type": "stream",
     "text": [
      "Total Price Outliers:\n"
     ]
    },
    {
     "data": {
      "text/html": [
       "<div>\n",
       "<style scoped>\n",
       "    .dataframe tbody tr th:only-of-type {\n",
       "        vertical-align: middle;\n",
       "    }\n",
       "\n",
       "    .dataframe tbody tr th {\n",
       "        vertical-align: top;\n",
       "    }\n",
       "\n",
       "    .dataframe thead th {\n",
       "        text-align: right;\n",
       "    }\n",
       "</style>\n",
       "<table border=\"1\" class=\"dataframe\">\n",
       "  <thead>\n",
       "    <tr style=\"text-align: right;\">\n",
       "      <th></th>\n",
       "      <th>InvoiceNo</th>\n",
       "      <th>StockCode</th>\n",
       "      <th>Description</th>\n",
       "      <th>Quantity</th>\n",
       "      <th>InvoiceDate</th>\n",
       "      <th>UnitPrice</th>\n",
       "      <th>CustomerID</th>\n",
       "      <th>Country</th>\n",
       "      <th>TotalPrice</th>\n",
       "      <th>DiscountedPrice</th>\n",
       "      <th>Recency</th>\n",
       "    </tr>\n",
       "  </thead>\n",
       "  <tbody>\n",
       "    <tr>\n",
       "      <th>870</th>\n",
       "      <td>536477</td>\n",
       "      <td>21137</td>\n",
       "      <td>BLACK RECORD COVER FRAME</td>\n",
       "      <td>480</td>\n",
       "      <td>2010-12-01 12:27:00</td>\n",
       "      <td>3.39</td>\n",
       "      <td>16210.0</td>\n",
       "      <td>United Kingdom</td>\n",
       "      <td>1627.2</td>\n",
       "      <td>1464.48</td>\n",
       "      <td>1</td>\n",
       "    </tr>\n",
       "    <tr>\n",
       "      <th>4505</th>\n",
       "      <td>536785</td>\n",
       "      <td>22423</td>\n",
       "      <td>REGENCY CAKESTAND 3 TIER</td>\n",
       "      <td>144</td>\n",
       "      <td>2010-12-02 15:22:00</td>\n",
       "      <td>10.95</td>\n",
       "      <td>15061.0</td>\n",
       "      <td>United Kingdom</td>\n",
       "      <td>1576.8</td>\n",
       "      <td>1419.12</td>\n",
       "      <td>3</td>\n",
       "    </tr>\n",
       "    <tr>\n",
       "      <th>4946</th>\n",
       "      <td>536830</td>\n",
       "      <td>21915</td>\n",
       "      <td>RED  HARMONICA IN BOX</td>\n",
       "      <td>1400</td>\n",
       "      <td>2010-12-02 17:38:00</td>\n",
       "      <td>1.06</td>\n",
       "      <td>16754.0</td>\n",
       "      <td>United Kingdom</td>\n",
       "      <td>1484.0</td>\n",
       "      <td>1335.60</td>\n",
       "      <td>371</td>\n",
       "    </tr>\n",
       "    <tr>\n",
       "      <th>6607</th>\n",
       "      <td>536970</td>\n",
       "      <td>22423</td>\n",
       "      <td>REGENCY CAKESTAND 3 TIER</td>\n",
       "      <td>120</td>\n",
       "      <td>2010-12-03 13:12:00</td>\n",
       "      <td>10.95</td>\n",
       "      <td>17949.0</td>\n",
       "      <td>United Kingdom</td>\n",
       "      <td>1314.0</td>\n",
       "      <td>1182.60</td>\n",
       "      <td>0</td>\n",
       "    </tr>\n",
       "    <tr>\n",
       "      <th>10205</th>\n",
       "      <td>537235</td>\n",
       "      <td>22622</td>\n",
       "      <td>BOX OF VINTAGE ALPHABET BLOCKS</td>\n",
       "      <td>156</td>\n",
       "      <td>2010-12-06 09:45:00</td>\n",
       "      <td>8.50</td>\n",
       "      <td>17381.0</td>\n",
       "      <td>United Kingdom</td>\n",
       "      <td>1326.0</td>\n",
       "      <td>1193.40</td>\n",
       "      <td>8</td>\n",
       "    </tr>\n",
       "    <tr>\n",
       "      <th>...</th>\n",
       "      <td>...</td>\n",
       "      <td>...</td>\n",
       "      <td>...</td>\n",
       "      <td>...</td>\n",
       "      <td>...</td>\n",
       "      <td>...</td>\n",
       "      <td>...</td>\n",
       "      <td>...</td>\n",
       "      <td>...</td>\n",
       "      <td>...</td>\n",
       "      <td>...</td>\n",
       "    </tr>\n",
       "    <tr>\n",
       "      <th>537883</th>\n",
       "      <td>581375</td>\n",
       "      <td>21137</td>\n",
       "      <td>BLACK RECORD COVER FRAME</td>\n",
       "      <td>960</td>\n",
       "      <td>2011-12-08 12:36:00</td>\n",
       "      <td>3.39</td>\n",
       "      <td>16210.0</td>\n",
       "      <td>United Kingdom</td>\n",
       "      <td>3254.4</td>\n",
       "      <td>2928.96</td>\n",
       "      <td>1</td>\n",
       "    </tr>\n",
       "    <tr>\n",
       "      <th>540061</th>\n",
       "      <td>581457</td>\n",
       "      <td>23543</td>\n",
       "      <td>WALL ART KEEP CALM</td>\n",
       "      <td>698</td>\n",
       "      <td>2011-12-08 18:43:00</td>\n",
       "      <td>4.15</td>\n",
       "      <td>18102.0</td>\n",
       "      <td>United Kingdom</td>\n",
       "      <td>2896.7</td>\n",
       "      <td>2607.03</td>\n",
       "      <td>0</td>\n",
       "    </tr>\n",
       "    <tr>\n",
       "      <th>540063</th>\n",
       "      <td>581457</td>\n",
       "      <td>23553</td>\n",
       "      <td>LANDMARK FRAME CAMDEN TOWN</td>\n",
       "      <td>120</td>\n",
       "      <td>2011-12-08 18:43:00</td>\n",
       "      <td>10.95</td>\n",
       "      <td>18102.0</td>\n",
       "      <td>United Kingdom</td>\n",
       "      <td>1314.0</td>\n",
       "      <td>1182.60</td>\n",
       "      <td>0</td>\n",
       "    </tr>\n",
       "    <tr>\n",
       "      <th>540421</th>\n",
       "      <td>581483</td>\n",
       "      <td>23843</td>\n",
       "      <td>PAPER CRAFT , LITTLE BIRDIE</td>\n",
       "      <td>80995</td>\n",
       "      <td>2011-12-09 09:15:00</td>\n",
       "      <td>2.08</td>\n",
       "      <td>16446.0</td>\n",
       "      <td>United Kingdom</td>\n",
       "      <td>168469.6</td>\n",
       "      <td>151622.64</td>\n",
       "      <td>0</td>\n",
       "    </tr>\n",
       "    <tr>\n",
       "      <th>540422</th>\n",
       "      <td>C581484</td>\n",
       "      <td>23843</td>\n",
       "      <td>PAPER CRAFT , LITTLE BIRDIE</td>\n",
       "      <td>-80995</td>\n",
       "      <td>2011-12-09 09:27:00</td>\n",
       "      <td>2.08</td>\n",
       "      <td>16446.0</td>\n",
       "      <td>United Kingdom</td>\n",
       "      <td>-168469.6</td>\n",
       "      <td>-168469.60</td>\n",
       "      <td>0</td>\n",
       "    </tr>\n",
       "  </tbody>\n",
       "</table>\n",
       "<p>256 rows × 11 columns</p>\n",
       "</div>"
      ],
      "text/plain": [
       "       InvoiceNo StockCode                     Description  Quantity  \\\n",
       "870       536477     21137        BLACK RECORD COVER FRAME       480   \n",
       "4505      536785     22423        REGENCY CAKESTAND 3 TIER       144   \n",
       "4946      536830     21915          RED  HARMONICA IN BOX       1400   \n",
       "6607      536970     22423        REGENCY CAKESTAND 3 TIER       120   \n",
       "10205     537235     22622  BOX OF VINTAGE ALPHABET BLOCKS       156   \n",
       "...          ...       ...                             ...       ...   \n",
       "537883    581375     21137        BLACK RECORD COVER FRAME       960   \n",
       "540061    581457     23543             WALL ART KEEP CALM        698   \n",
       "540063    581457     23553     LANDMARK FRAME CAMDEN TOWN        120   \n",
       "540421    581483     23843     PAPER CRAFT , LITTLE BIRDIE     80995   \n",
       "540422   C581484     23843     PAPER CRAFT , LITTLE BIRDIE    -80995   \n",
       "\n",
       "               InvoiceDate  UnitPrice  CustomerID         Country  TotalPrice  \\\n",
       "870    2010-12-01 12:27:00       3.39     16210.0  United Kingdom      1627.2   \n",
       "4505   2010-12-02 15:22:00      10.95     15061.0  United Kingdom      1576.8   \n",
       "4946   2010-12-02 17:38:00       1.06     16754.0  United Kingdom      1484.0   \n",
       "6607   2010-12-03 13:12:00      10.95     17949.0  United Kingdom      1314.0   \n",
       "10205  2010-12-06 09:45:00       8.50     17381.0  United Kingdom      1326.0   \n",
       "...                    ...        ...         ...             ...         ...   \n",
       "537883 2011-12-08 12:36:00       3.39     16210.0  United Kingdom      3254.4   \n",
       "540061 2011-12-08 18:43:00       4.15     18102.0  United Kingdom      2896.7   \n",
       "540063 2011-12-08 18:43:00      10.95     18102.0  United Kingdom      1314.0   \n",
       "540421 2011-12-09 09:15:00       2.08     16446.0  United Kingdom    168469.6   \n",
       "540422 2011-12-09 09:27:00       2.08     16446.0  United Kingdom   -168469.6   \n",
       "\n",
       "        DiscountedPrice  Recency  \n",
       "870             1464.48        1  \n",
       "4505            1419.12        3  \n",
       "4946            1335.60      371  \n",
       "6607            1182.60        0  \n",
       "10205           1193.40        8  \n",
       "...                 ...      ...  \n",
       "537883          2928.96        1  \n",
       "540061          2607.03        0  \n",
       "540063          1182.60        0  \n",
       "540421        151622.64        0  \n",
       "540422       -168469.60        0  \n",
       "\n",
       "[256 rows x 11 columns]"
      ]
     },
     "execution_count": 47,
     "metadata": {},
     "output_type": "execute_result"
    }
   ],
   "source": [
    "# Checking outliers in total price and quantity\n",
    "total_price_zscore = (data['TotalPrice'] - data['TotalPrice'].mean()) / data['TotalPrice'].std()\n",
    "quantity_zscore = (data['Quantity'] - data['Quantity'].mean()) / data['Quantity'].std()\n",
    "\n",
    "# Defined a threshold for identifying outliers\n",
    "# You can adjust this threshold based on your specific requirements\n",
    "zscore_threshold = 3\n",
    "\n",
    "# Find outliers based on the z-score\n",
    "total_price_outliers = data[total_price_zscore.abs() > zscore_threshold]\n",
    "quantity_outliers = data[quantity_zscore.abs() > zscore_threshold]\n",
    "\n",
    "# Display the outliers\n",
    "print(\"Total Price Outliers:\")\n",
    "\n",
    "\n"
   ]
  },
  {
   "cell_type": "markdown",
   "id": "8a091f9d",
   "metadata": {},
   "source": [
    "### Total Price Outliers"
   ]
  },
  {
   "cell_type": "code",
   "execution_count": 49,
   "id": "ebf7c3e9",
   "metadata": {},
   "outputs": [
    {
     "data": {
      "text/html": [
       "<div>\n",
       "<style scoped>\n",
       "    .dataframe tbody tr th:only-of-type {\n",
       "        vertical-align: middle;\n",
       "    }\n",
       "\n",
       "    .dataframe tbody tr th {\n",
       "        vertical-align: top;\n",
       "    }\n",
       "\n",
       "    .dataframe thead th {\n",
       "        text-align: right;\n",
       "    }\n",
       "</style>\n",
       "<table border=\"1\" class=\"dataframe\">\n",
       "  <thead>\n",
       "    <tr style=\"text-align: right;\">\n",
       "      <th></th>\n",
       "      <th>InvoiceNo</th>\n",
       "      <th>StockCode</th>\n",
       "      <th>Description</th>\n",
       "      <th>Quantity</th>\n",
       "      <th>InvoiceDate</th>\n",
       "      <th>UnitPrice</th>\n",
       "      <th>CustomerID</th>\n",
       "      <th>Country</th>\n",
       "      <th>TotalPrice</th>\n",
       "      <th>DiscountedPrice</th>\n",
       "      <th>Recency</th>\n",
       "    </tr>\n",
       "  </thead>\n",
       "  <tbody>\n",
       "    <tr>\n",
       "      <th>870</th>\n",
       "      <td>536477</td>\n",
       "      <td>21137</td>\n",
       "      <td>BLACK RECORD COVER FRAME</td>\n",
       "      <td>480</td>\n",
       "      <td>2010-12-01 12:27:00</td>\n",
       "      <td>3.39</td>\n",
       "      <td>16210.0</td>\n",
       "      <td>United Kingdom</td>\n",
       "      <td>1627.2</td>\n",
       "      <td>1464.48</td>\n",
       "      <td>1</td>\n",
       "    </tr>\n",
       "    <tr>\n",
       "      <th>4505</th>\n",
       "      <td>536785</td>\n",
       "      <td>22423</td>\n",
       "      <td>REGENCY CAKESTAND 3 TIER</td>\n",
       "      <td>144</td>\n",
       "      <td>2010-12-02 15:22:00</td>\n",
       "      <td>10.95</td>\n",
       "      <td>15061.0</td>\n",
       "      <td>United Kingdom</td>\n",
       "      <td>1576.8</td>\n",
       "      <td>1419.12</td>\n",
       "      <td>3</td>\n",
       "    </tr>\n",
       "    <tr>\n",
       "      <th>4946</th>\n",
       "      <td>536830</td>\n",
       "      <td>21915</td>\n",
       "      <td>RED  HARMONICA IN BOX</td>\n",
       "      <td>1400</td>\n",
       "      <td>2010-12-02 17:38:00</td>\n",
       "      <td>1.06</td>\n",
       "      <td>16754.0</td>\n",
       "      <td>United Kingdom</td>\n",
       "      <td>1484.0</td>\n",
       "      <td>1335.60</td>\n",
       "      <td>371</td>\n",
       "    </tr>\n",
       "    <tr>\n",
       "      <th>6607</th>\n",
       "      <td>536970</td>\n",
       "      <td>22423</td>\n",
       "      <td>REGENCY CAKESTAND 3 TIER</td>\n",
       "      <td>120</td>\n",
       "      <td>2010-12-03 13:12:00</td>\n",
       "      <td>10.95</td>\n",
       "      <td>17949.0</td>\n",
       "      <td>United Kingdom</td>\n",
       "      <td>1314.0</td>\n",
       "      <td>1182.60</td>\n",
       "      <td>0</td>\n",
       "    </tr>\n",
       "    <tr>\n",
       "      <th>10205</th>\n",
       "      <td>537235</td>\n",
       "      <td>22622</td>\n",
       "      <td>BOX OF VINTAGE ALPHABET BLOCKS</td>\n",
       "      <td>156</td>\n",
       "      <td>2010-12-06 09:45:00</td>\n",
       "      <td>8.50</td>\n",
       "      <td>17381.0</td>\n",
       "      <td>United Kingdom</td>\n",
       "      <td>1326.0</td>\n",
       "      <td>1193.40</td>\n",
       "      <td>8</td>\n",
       "    </tr>\n",
       "    <tr>\n",
       "      <th>...</th>\n",
       "      <td>...</td>\n",
       "      <td>...</td>\n",
       "      <td>...</td>\n",
       "      <td>...</td>\n",
       "      <td>...</td>\n",
       "      <td>...</td>\n",
       "      <td>...</td>\n",
       "      <td>...</td>\n",
       "      <td>...</td>\n",
       "      <td>...</td>\n",
       "      <td>...</td>\n",
       "    </tr>\n",
       "    <tr>\n",
       "      <th>537883</th>\n",
       "      <td>581375</td>\n",
       "      <td>21137</td>\n",
       "      <td>BLACK RECORD COVER FRAME</td>\n",
       "      <td>960</td>\n",
       "      <td>2011-12-08 12:36:00</td>\n",
       "      <td>3.39</td>\n",
       "      <td>16210.0</td>\n",
       "      <td>United Kingdom</td>\n",
       "      <td>3254.4</td>\n",
       "      <td>2928.96</td>\n",
       "      <td>1</td>\n",
       "    </tr>\n",
       "    <tr>\n",
       "      <th>540061</th>\n",
       "      <td>581457</td>\n",
       "      <td>23543</td>\n",
       "      <td>WALL ART KEEP CALM</td>\n",
       "      <td>698</td>\n",
       "      <td>2011-12-08 18:43:00</td>\n",
       "      <td>4.15</td>\n",
       "      <td>18102.0</td>\n",
       "      <td>United Kingdom</td>\n",
       "      <td>2896.7</td>\n",
       "      <td>2607.03</td>\n",
       "      <td>0</td>\n",
       "    </tr>\n",
       "    <tr>\n",
       "      <th>540063</th>\n",
       "      <td>581457</td>\n",
       "      <td>23553</td>\n",
       "      <td>LANDMARK FRAME CAMDEN TOWN</td>\n",
       "      <td>120</td>\n",
       "      <td>2011-12-08 18:43:00</td>\n",
       "      <td>10.95</td>\n",
       "      <td>18102.0</td>\n",
       "      <td>United Kingdom</td>\n",
       "      <td>1314.0</td>\n",
       "      <td>1182.60</td>\n",
       "      <td>0</td>\n",
       "    </tr>\n",
       "    <tr>\n",
       "      <th>540421</th>\n",
       "      <td>581483</td>\n",
       "      <td>23843</td>\n",
       "      <td>PAPER CRAFT , LITTLE BIRDIE</td>\n",
       "      <td>80995</td>\n",
       "      <td>2011-12-09 09:15:00</td>\n",
       "      <td>2.08</td>\n",
       "      <td>16446.0</td>\n",
       "      <td>United Kingdom</td>\n",
       "      <td>168469.6</td>\n",
       "      <td>151622.64</td>\n",
       "      <td>0</td>\n",
       "    </tr>\n",
       "    <tr>\n",
       "      <th>540422</th>\n",
       "      <td>C581484</td>\n",
       "      <td>23843</td>\n",
       "      <td>PAPER CRAFT , LITTLE BIRDIE</td>\n",
       "      <td>-80995</td>\n",
       "      <td>2011-12-09 09:27:00</td>\n",
       "      <td>2.08</td>\n",
       "      <td>16446.0</td>\n",
       "      <td>United Kingdom</td>\n",
       "      <td>-168469.6</td>\n",
       "      <td>-168469.60</td>\n",
       "      <td>0</td>\n",
       "    </tr>\n",
       "  </tbody>\n",
       "</table>\n",
       "<p>256 rows × 11 columns</p>\n",
       "</div>"
      ],
      "text/plain": [
       "       InvoiceNo StockCode                     Description  Quantity  \\\n",
       "870       536477     21137        BLACK RECORD COVER FRAME       480   \n",
       "4505      536785     22423        REGENCY CAKESTAND 3 TIER       144   \n",
       "4946      536830     21915          RED  HARMONICA IN BOX       1400   \n",
       "6607      536970     22423        REGENCY CAKESTAND 3 TIER       120   \n",
       "10205     537235     22622  BOX OF VINTAGE ALPHABET BLOCKS       156   \n",
       "...          ...       ...                             ...       ...   \n",
       "537883    581375     21137        BLACK RECORD COVER FRAME       960   \n",
       "540061    581457     23543             WALL ART KEEP CALM        698   \n",
       "540063    581457     23553     LANDMARK FRAME CAMDEN TOWN        120   \n",
       "540421    581483     23843     PAPER CRAFT , LITTLE BIRDIE     80995   \n",
       "540422   C581484     23843     PAPER CRAFT , LITTLE BIRDIE    -80995   \n",
       "\n",
       "               InvoiceDate  UnitPrice  CustomerID         Country  TotalPrice  \\\n",
       "870    2010-12-01 12:27:00       3.39     16210.0  United Kingdom      1627.2   \n",
       "4505   2010-12-02 15:22:00      10.95     15061.0  United Kingdom      1576.8   \n",
       "4946   2010-12-02 17:38:00       1.06     16754.0  United Kingdom      1484.0   \n",
       "6607   2010-12-03 13:12:00      10.95     17949.0  United Kingdom      1314.0   \n",
       "10205  2010-12-06 09:45:00       8.50     17381.0  United Kingdom      1326.0   \n",
       "...                    ...        ...         ...             ...         ...   \n",
       "537883 2011-12-08 12:36:00       3.39     16210.0  United Kingdom      3254.4   \n",
       "540061 2011-12-08 18:43:00       4.15     18102.0  United Kingdom      2896.7   \n",
       "540063 2011-12-08 18:43:00      10.95     18102.0  United Kingdom      1314.0   \n",
       "540421 2011-12-09 09:15:00       2.08     16446.0  United Kingdom    168469.6   \n",
       "540422 2011-12-09 09:27:00       2.08     16446.0  United Kingdom   -168469.6   \n",
       "\n",
       "        DiscountedPrice  Recency  \n",
       "870             1464.48        1  \n",
       "4505            1419.12        3  \n",
       "4946            1335.60      371  \n",
       "6607            1182.60        0  \n",
       "10205           1193.40        8  \n",
       "...                 ...      ...  \n",
       "537883          2928.96        1  \n",
       "540061          2607.03        0  \n",
       "540063          1182.60        0  \n",
       "540421        151622.64        0  \n",
       "540422       -168469.60        0  \n",
       "\n",
       "[256 rows x 11 columns]"
      ]
     },
     "execution_count": 49,
     "metadata": {},
     "output_type": "execute_result"
    }
   ],
   "source": [
    "total_price_outliers"
   ]
  },
  {
   "cell_type": "markdown",
   "id": "f67c7f25",
   "metadata": {},
   "source": [
    "### Quantity Outliers"
   ]
  },
  {
   "cell_type": "code",
   "execution_count": 51,
   "id": "6c8b168b",
   "metadata": {},
   "outputs": [
    {
     "data": {
      "text/html": [
       "<div>\n",
       "<style scoped>\n",
       "    .dataframe tbody tr th:only-of-type {\n",
       "        vertical-align: middle;\n",
       "    }\n",
       "\n",
       "    .dataframe tbody tr th {\n",
       "        vertical-align: top;\n",
       "    }\n",
       "\n",
       "    .dataframe thead th {\n",
       "        text-align: right;\n",
       "    }\n",
       "</style>\n",
       "<table border=\"1\" class=\"dataframe\">\n",
       "  <thead>\n",
       "    <tr style=\"text-align: right;\">\n",
       "      <th></th>\n",
       "      <th>InvoiceNo</th>\n",
       "      <th>StockCode</th>\n",
       "      <th>Description</th>\n",
       "      <th>Quantity</th>\n",
       "      <th>InvoiceDate</th>\n",
       "      <th>UnitPrice</th>\n",
       "      <th>CustomerID</th>\n",
       "      <th>Country</th>\n",
       "      <th>TotalPrice</th>\n",
       "      <th>DiscountedPrice</th>\n",
       "      <th>Recency</th>\n",
       "    </tr>\n",
       "  </thead>\n",
       "  <tbody>\n",
       "    <tr>\n",
       "      <th>4287</th>\n",
       "      <td>C536757</td>\n",
       "      <td>84347</td>\n",
       "      <td>ROTATING SILVER ANGELS T-LIGHT HLDR</td>\n",
       "      <td>-9360</td>\n",
       "      <td>2010-12-02 14:23:00</td>\n",
       "      <td>0.03</td>\n",
       "      <td>15838.0</td>\n",
       "      <td>United Kingdom</td>\n",
       "      <td>-280.8</td>\n",
       "      <td>-280.80</td>\n",
       "      <td>10</td>\n",
       "    </tr>\n",
       "    <tr>\n",
       "      <th>4850</th>\n",
       "      <td>536809</td>\n",
       "      <td>84950</td>\n",
       "      <td>ASSORTED COLOUR T-LIGHT HOLDER</td>\n",
       "      <td>1824</td>\n",
       "      <td>2010-12-02 16:48:00</td>\n",
       "      <td>0.55</td>\n",
       "      <td>15299.0</td>\n",
       "      <td>United Kingdom</td>\n",
       "      <td>1003.2</td>\n",
       "      <td>902.88</td>\n",
       "      <td>66</td>\n",
       "    </tr>\n",
       "    <tr>\n",
       "      <th>4945</th>\n",
       "      <td>536830</td>\n",
       "      <td>84077</td>\n",
       "      <td>WORLD WAR 2 GLIDERS ASSTD DESIGNS</td>\n",
       "      <td>2880</td>\n",
       "      <td>2010-12-02 17:38:00</td>\n",
       "      <td>0.18</td>\n",
       "      <td>16754.0</td>\n",
       "      <td>United Kingdom</td>\n",
       "      <td>518.4</td>\n",
       "      <td>466.56</td>\n",
       "      <td>371</td>\n",
       "    </tr>\n",
       "    <tr>\n",
       "      <th>4946</th>\n",
       "      <td>536830</td>\n",
       "      <td>21915</td>\n",
       "      <td>RED  HARMONICA IN BOX</td>\n",
       "      <td>1400</td>\n",
       "      <td>2010-12-02 17:38:00</td>\n",
       "      <td>1.06</td>\n",
       "      <td>16754.0</td>\n",
       "      <td>United Kingdom</td>\n",
       "      <td>1484.0</td>\n",
       "      <td>1335.60</td>\n",
       "      <td>371</td>\n",
       "    </tr>\n",
       "    <tr>\n",
       "      <th>6365</th>\n",
       "      <td>536890</td>\n",
       "      <td>17084R</td>\n",
       "      <td>ASSORTED INCENSE PACK</td>\n",
       "      <td>1440</td>\n",
       "      <td>2010-12-03 11:48:00</td>\n",
       "      <td>0.16</td>\n",
       "      <td>14156.0</td>\n",
       "      <td>EIRE</td>\n",
       "      <td>230.4</td>\n",
       "      <td>207.36</td>\n",
       "      <td>9</td>\n",
       "    </tr>\n",
       "    <tr>\n",
       "      <th>...</th>\n",
       "      <td>...</td>\n",
       "      <td>...</td>\n",
       "      <td>...</td>\n",
       "      <td>...</td>\n",
       "      <td>...</td>\n",
       "      <td>...</td>\n",
       "      <td>...</td>\n",
       "      <td>...</td>\n",
       "      <td>...</td>\n",
       "      <td>...</td>\n",
       "      <td>...</td>\n",
       "    </tr>\n",
       "    <tr>\n",
       "      <th>537883</th>\n",
       "      <td>581375</td>\n",
       "      <td>21137</td>\n",
       "      <td>BLACK RECORD COVER FRAME</td>\n",
       "      <td>960</td>\n",
       "      <td>2011-12-08 12:36:00</td>\n",
       "      <td>3.39</td>\n",
       "      <td>16210.0</td>\n",
       "      <td>United Kingdom</td>\n",
       "      <td>3254.4</td>\n",
       "      <td>2928.96</td>\n",
       "      <td>1</td>\n",
       "    </tr>\n",
       "    <tr>\n",
       "      <th>540070</th>\n",
       "      <td>581458</td>\n",
       "      <td>22197</td>\n",
       "      <td>POPCORN HOLDER</td>\n",
       "      <td>1500</td>\n",
       "      <td>2011-12-08 18:45:00</td>\n",
       "      <td>0.72</td>\n",
       "      <td>17949.0</td>\n",
       "      <td>United Kingdom</td>\n",
       "      <td>1080.0</td>\n",
       "      <td>972.00</td>\n",
       "      <td>0</td>\n",
       "    </tr>\n",
       "    <tr>\n",
       "      <th>540071</th>\n",
       "      <td>581459</td>\n",
       "      <td>22197</td>\n",
       "      <td>POPCORN HOLDER</td>\n",
       "      <td>1200</td>\n",
       "      <td>2011-12-08 18:46:00</td>\n",
       "      <td>0.72</td>\n",
       "      <td>17949.0</td>\n",
       "      <td>United Kingdom</td>\n",
       "      <td>864.0</td>\n",
       "      <td>777.60</td>\n",
       "      <td>0</td>\n",
       "    </tr>\n",
       "    <tr>\n",
       "      <th>540421</th>\n",
       "      <td>581483</td>\n",
       "      <td>23843</td>\n",
       "      <td>PAPER CRAFT , LITTLE BIRDIE</td>\n",
       "      <td>80995</td>\n",
       "      <td>2011-12-09 09:15:00</td>\n",
       "      <td>2.08</td>\n",
       "      <td>16446.0</td>\n",
       "      <td>United Kingdom</td>\n",
       "      <td>168469.6</td>\n",
       "      <td>151622.64</td>\n",
       "      <td>0</td>\n",
       "    </tr>\n",
       "    <tr>\n",
       "      <th>540422</th>\n",
       "      <td>C581484</td>\n",
       "      <td>23843</td>\n",
       "      <td>PAPER CRAFT , LITTLE BIRDIE</td>\n",
       "      <td>-80995</td>\n",
       "      <td>2011-12-09 09:27:00</td>\n",
       "      <td>2.08</td>\n",
       "      <td>16446.0</td>\n",
       "      <td>United Kingdom</td>\n",
       "      <td>-168469.6</td>\n",
       "      <td>-168469.60</td>\n",
       "      <td>0</td>\n",
       "    </tr>\n",
       "  </tbody>\n",
       "</table>\n",
       "<p>188 rows × 11 columns</p>\n",
       "</div>"
      ],
      "text/plain": [
       "       InvoiceNo StockCode                          Description  Quantity  \\\n",
       "4287     C536757     84347  ROTATING SILVER ANGELS T-LIGHT HLDR     -9360   \n",
       "4850      536809     84950       ASSORTED COLOUR T-LIGHT HOLDER      1824   \n",
       "4945      536830     84077    WORLD WAR 2 GLIDERS ASSTD DESIGNS      2880   \n",
       "4946      536830     21915               RED  HARMONICA IN BOX       1400   \n",
       "6365      536890    17084R                ASSORTED INCENSE PACK      1440   \n",
       "...          ...       ...                                  ...       ...   \n",
       "537883    581375     21137             BLACK RECORD COVER FRAME       960   \n",
       "540070    581458     22197                       POPCORN HOLDER      1500   \n",
       "540071    581459     22197                       POPCORN HOLDER      1200   \n",
       "540421    581483     23843          PAPER CRAFT , LITTLE BIRDIE     80995   \n",
       "540422   C581484     23843          PAPER CRAFT , LITTLE BIRDIE    -80995   \n",
       "\n",
       "               InvoiceDate  UnitPrice  CustomerID         Country  TotalPrice  \\\n",
       "4287   2010-12-02 14:23:00       0.03     15838.0  United Kingdom      -280.8   \n",
       "4850   2010-12-02 16:48:00       0.55     15299.0  United Kingdom      1003.2   \n",
       "4945   2010-12-02 17:38:00       0.18     16754.0  United Kingdom       518.4   \n",
       "4946   2010-12-02 17:38:00       1.06     16754.0  United Kingdom      1484.0   \n",
       "6365   2010-12-03 11:48:00       0.16     14156.0            EIRE       230.4   \n",
       "...                    ...        ...         ...             ...         ...   \n",
       "537883 2011-12-08 12:36:00       3.39     16210.0  United Kingdom      3254.4   \n",
       "540070 2011-12-08 18:45:00       0.72     17949.0  United Kingdom      1080.0   \n",
       "540071 2011-12-08 18:46:00       0.72     17949.0  United Kingdom       864.0   \n",
       "540421 2011-12-09 09:15:00       2.08     16446.0  United Kingdom    168469.6   \n",
       "540422 2011-12-09 09:27:00       2.08     16446.0  United Kingdom   -168469.6   \n",
       "\n",
       "        DiscountedPrice  Recency  \n",
       "4287            -280.80       10  \n",
       "4850             902.88       66  \n",
       "4945             466.56      371  \n",
       "4946            1335.60      371  \n",
       "6365             207.36        9  \n",
       "...                 ...      ...  \n",
       "537883          2928.96        1  \n",
       "540070           972.00        0  \n",
       "540071           777.60        0  \n",
       "540421        151622.64        0  \n",
       "540422       -168469.60        0  \n",
       "\n",
       "[188 rows x 11 columns]"
      ]
     },
     "execution_count": 51,
     "metadata": {},
     "output_type": "execute_result"
    }
   ],
   "source": [
    "# print(\"\\nQuantity Outliers:\")\n",
    "quantity_outliers"
   ]
  },
  {
   "cell_type": "code",
   "execution_count": null,
   "id": "61993aaa",
   "metadata": {},
   "outputs": [],
   "source": []
  },
  {
   "cell_type": "markdown",
   "id": "1dd8ad8a",
   "metadata": {},
   "source": [
    "Outliers can be caused by various factors, including:\n",
    "\n",
    "1. Data entry errors: Sometimes, outliers occur due to mistakes in data entry, such as typos or incorrect measurements.\n",
    "\n",
    "2. Natural variation: In some cases, outliers are a result of natural variation in the data. For example, extreme weather conditions might lead to unusually high or low sales for certain products.\n",
    "\n",
    "3. Measurement errors: Outliers can occur due to errors in measurement instruments or processes. For instance, a malfunctioning scale in a warehouse might lead to incorrect quantity measurements.\n",
    "\n",
    "4. Rare events: Outliers may represent rare or unusual events that are not reflective of typical behavior. For example, a large one-time order from a new customer or a return of a defective product can result in outliers.\n",
    "\n",
    "5. Skewed distribution: In datasets with skewed distributions, outliers may occur naturally at the tails of the distribution. These outliers may not necessarily indicate errors but rather extreme values within the dataset.\n"
   ]
  },
  {
   "cell_type": "markdown",
   "id": "35de59d7",
   "metadata": {},
   "source": [
    "## Analyze the month-over-month or year-over-year growth rate in revenue for each product category and compare it to overall revenue growth"
   ]
  },
  {
   "cell_type": "markdown",
   "id": "d64c94ca",
   "metadata": {},
   "source": [
    "## Calculate the total revenue for each product category for each month or year.\n",
    "\n",
    "Extract the month or year from the 'InvoiceDate' column.\n",
    "Group the data by the extracted month or year and the product category.\n",
    "Calculate the total revenue for each group."
   ]
  },
  {
   "cell_type": "code",
   "execution_count": 52,
   "id": "6c436907",
   "metadata": {},
   "outputs": [
    {
     "name": "stdout",
     "output_type": "stream",
     "text": [
      "   Year  Month                       Description  TotalPrice\n",
      "0  2010     12     4 PURPLE FLOCK DINNER CANDLES       35.70\n",
      "1  2010     12        OVAL WALL MIRROR DIAMANTE        89.55\n",
      "2  2010     12   SET 2 TEA TOWELS I LOVE LONDON       755.20\n",
      "3  2010     12            10 COLOUR SPACEBOY PEN      455.60\n",
      "4  2010     12        12 COLOURED PARTY BALLOONS       31.20\n"
     ]
    }
   ],
   "source": [
    "\"\"\"\n",
    "This code will give us a DataFrame revenue_by_category_month containing the total revenue for each product category \n",
    "for each month. We grouped the data by year, month, and product category, then calculated the sum of the \n",
    "'TotalPrice' column for each group. Finally, we reset the index to make the DataFrame more readable.\n",
    "\"\"\"\n",
    "# Extract year and month from 'InvoiceDate' column\n",
    "data['Year'] = data['InvoiceDate'].dt.year\n",
    "data['Month'] = data['InvoiceDate'].dt.month\n",
    "\n",
    "# Calculate total revenue for each product category for each month\n",
    "revenue_by_category_month = data.groupby(['Year', 'Month', 'Description'])['TotalPrice'].sum().reset_index()\n",
    "\n",
    "# Display the first few rows of the result\n",
    "print(revenue_by_category_month.head())"
   ]
  },
  {
   "cell_type": "markdown",
   "id": "e3d03bbf",
   "metadata": {},
   "source": [
    "## Calculate the growth rate of revenue for each product category compared to the previous month or year"
   ]
  },
  {
   "cell_type": "markdown",
   "id": "a98a2f44",
   "metadata": {},
   "source": [
    "Calculate the total revenue for each month or year.\n",
    "Calculate the month-over-month or year-over-year growth rate in revenue. done\n",
    "Calculate the total revenue for each product category for each month or year.\n",
    "Calculate the month-over-month or year-over-year growth rate in revenue for each product category.\n",
    "Compare the overall revenue growth rate with the revenue growth rate for each product category."
   ]
  },
  {
   "cell_type": "code",
   "execution_count": 64,
   "id": "b331b8b9",
   "metadata": {},
   "outputs": [
    {
     "name": "stdout",
     "output_type": "stream",
     "text": [
      "             Revenue  GrowthRate\n",
      "Month                           \n",
      "2010-12   554604.020         NaN\n",
      "2011-01   475074.380   -0.143399\n",
      "2011-02   436546.150   -0.081099\n",
      "2011-03   579964.610    0.328530\n",
      "2011-04   426047.851   -0.265390\n",
      "2011-05   648251.080    0.521545\n",
      "2011-06   608013.160   -0.062072\n",
      "2011-07   574238.481   -0.055549\n",
      "2011-08   616368.000    0.073366\n",
      "2011-09   931440.372    0.511176\n",
      "2011-10   974603.590    0.046340\n",
      "2011-11  1132407.740    0.161916\n",
      "2011-12   342506.380   -0.697541\n"
     ]
    }
   ],
   "source": [
    "# Extract year and month from 'InvoiceDate' column\n",
    "data['Month'] = data['InvoiceDate'].dt.to_period('M')\n",
    "data['Year'] = data['InvoiceDate'].dt.to_period('Y')\n",
    "\n",
    "# Calculate total revenue for each month\n",
    "# monthly_revenue = data.groupby('Month')['TotalPrice'].sum()\n",
    "monthly_revenue = data.groupby([data['Month']])['TotalPrice'].sum()\n",
    "# Calculate total revenue for each yearly\n",
    "yearly_revenue = data.groupby([data['Year']])['TotalPrice'].sum()\n",
    "\n",
    "# Calculate month-over-month growth rate in revenue\n",
    "monthly_growth_rate = monthly_revenue.pct_change()\n",
    "yearly_growth_rate = yearly_revenue.pct_change()\n",
    "\n",
    "monthly_revenu_growth_rate = pd.merge(monthly_revenue, monthly_growth_rate, on='Month')\n",
    "monthly_revenu_growth_rate.columns = ['Revenue', 'GrowthRate']\n",
    "print(monthly_revenu_growth_rate)"
   ]
  },
  {
   "cell_type": "markdown",
   "id": "f37ca6bd",
   "metadata": {},
   "source": [
    "### Plot month-over-month growth rate"
   ]
  },
  {
   "cell_type": "code",
   "execution_count": 66,
   "id": "33de283a",
   "metadata": {},
   "outputs": [
    {
     "data": {
      "image/png": "[encoded data removed]",
      "text/plain": [
       "<Figure size 720x432 with 1 Axes>"
      ]
     },
     "metadata": {
      "needs_background": "light"
     },
     "output_type": "display_data"
    }
   ],
   "source": [
    "# Plot month-over-month growth rate\n",
    "plt.figure(figsize=(10, 6))\n",
    "monthly_growth_rate.plot(marker='o')\n",
    "plt.title('Month-over-Month Growth Rate in Revenue', fontsize=14)\n",
    "plt.xlabel('Month', fontsize=14)\n",
    "plt.ylabel('Growth Rate', fontsize=14)\n",
    "plt.grid(True)\n",
    "plt.show()"
   ]
  },
  {
   "cell_type": "markdown",
   "id": "b867595d",
   "metadata": {},
   "source": [
    "### Plotting year-over-year growth rate"
   ]
  },
  {
   "cell_type": "code",
   "execution_count": 67,
   "id": "44966c9a",
   "metadata": {},
   "outputs": [
    {
     "data": {
      "image/png": "[encoded data removed]",
      "text/plain": [
       "<Figure size 720x432 with 1 Axes>"
      ]
     },
     "metadata": {
      "needs_background": "light"
     },
     "output_type": "display_data"
    }
   ],
   "source": [
    "# Plot the overall growth rate using a bar chart\n",
    "plt.figure(figsize=(10, 6))\n",
    "yearly_growth_rate.plot(kind='bar', color='skyblue')\n",
    "plt.title('Year-Over-Year Revenue Growth Rate', fontsize=14)\n",
    "plt.xlabel('Year', fontsize=14)\n",
    "plt.ylabel('Growth Rate', fontsize=14)\n",
    "plt.xticks(rotation=45, fontsize=14)\n",
    "plt.grid(axis='y', linestyle='--', alpha=0.7)\n",
    "plt.show()"
   ]
  },
  {
   "cell_type": "code",
   "execution_count": 68,
   "id": "9c70ee2e",
   "metadata": {},
   "outputs": [
    {
     "name": "stdout",
     "output_type": "stream",
     "text": [
      "Yearly Growth Rate: 12.97 %\n"
     ]
    },
    {
     "name": "stderr",
     "output_type": "stream",
     "text": [
      "C:\\Users\\HOLART~1\\AppData\\Local\\Temp/ipykernel_5708/2922309834.py:4: FutureWarning: Series.__getitem__ treating keys as positions is deprecated. In a future version, integer keys will always be treated as labels (consistent with DataFrame behavior). To access a value by position, use `ser.iloc[pos]`\n",
      "  revenue_current_year = yearly_revenue[1]\n",
      "C:\\Users\\HOLART~1\\AppData\\Local\\Temp/ipykernel_5708/2922309834.py:5: FutureWarning: Series.__getitem__ treating keys as positions is deprecated. In a future version, integer keys will always be treated as labels (consistent with DataFrame behavior). To access a value by position, use `ser.iloc[pos]`\n",
      "  revenue_previous_year = yearly_revenue[0]\n"
     ]
    }
   ],
   "source": [
    "import sympy as sp\n",
    "\n",
    "# Extract revenue for the current year and the previous year\n",
    "revenue_current_year = yearly_revenue[1]\n",
    "revenue_previous_year = yearly_revenue[0]\n",
    "\n",
    "# Define the symbols\n",
    "revenue_current_year_sym = sp.Symbol('revenue_current_year')\n",
    "revenue_previous_year_sym = sp.Symbol('revenue_previous_year')\n",
    "\n",
    "# Calculate the growth rate using sympy\n",
    "yearly_growth_rate_formula = ((revenue_current_year_sym - revenue_previous_year_sym) / revenue_previous_year_sym) \n",
    "\n",
    "# Substitute the values into the formula\n",
    "yearly_growth_rate = yearly_growth_rate_formula.subs({revenue_current_year_sym: revenue_current_year, \\\n",
    "                                                      revenue_previous_year_sym: revenue_previous_year})\n",
    "\n",
    "# Print the result\n",
    "print(\"Yearly Growth Rate:\", round(yearly_growth_rate, 2), '%')\n"
   ]
  },
  {
   "cell_type": "markdown",
   "id": "d7cfeac6",
   "metadata": {},
   "source": [
    "## Calculate the total revenue for each product category for each month or year,  following these steps:\n",
    "\n",
    "Group the data by product category and either month or year.\n",
    "\n",
    "Sum up the TotalPrice column within each group.\n",
    "\n",
    "To calculate the month-over-month or year-over-year growth rate in revenue for each product category, you can use the pct_change() method in pandas."
   ]
  },
  {
   "cell_type": "code",
   "execution_count": 69,
   "id": "f47b2ef9",
   "metadata": {},
   "outputs": [],
   "source": [
    "# Group by product category and year\n",
    "revenue_by_category_year = data.groupby(['Description', data['Year']])['TotalPrice'].sum()\n",
    "\n",
    "# Group by product category and month\n",
    "revenue_by_category_month = data.groupby(['Description', data['Month']])['TotalPrice'].sum()"
   ]
  },
  {
   "cell_type": "code",
   "execution_count": 70,
   "id": "2f086054",
   "metadata": {},
   "outputs": [
    {
     "data": {
      "text/plain": [
       "Description                       Year\n",
       " 4 PURPLE FLOCK DINNER CANDLES    2010      35.70\n",
       "                                  2011     235.06\n",
       " 50'S CHRISTMAS GIFT BAG LARGE    2011    2269.75\n",
       " DOLLY GIRL BEAKER                2011    2750.75\n",
       " I LOVE LONDON MINI BACKPACK      2011    1454.00\n",
       "                                           ...   \n",
       "ZINC TOP  2 DOOR WOODEN SHELF     2011     152.55\n",
       "ZINC WILLIE WINKIE  CANDLE STICK  2010     147.90\n",
       "                                  2011    2018.85\n",
       "ZINC WIRE KITCHEN ORGANISER       2011     156.80\n",
       "ZINC WIRE SWEETHEART LETTER TRAY  2011     253.24\n",
       "Name: TotalPrice, Length: 6229, dtype: float64"
      ]
     },
     "execution_count": 70,
     "metadata": {},
     "output_type": "execute_result"
    }
   ],
   "source": [
    "revenue_by_category_year"
   ]
  },
  {
   "cell_type": "code",
   "execution_count": 71,
   "id": "bb937894",
   "metadata": {},
   "outputs": [
    {
     "data": {
      "text/plain": [
       "Description                       Month  \n",
       " 4 PURPLE FLOCK DINNER CANDLES    2010-12    35.70\n",
       "                                  2011-01     5.10\n",
       "                                  2011-02     2.55\n",
       "                                  2011-04    20.40\n",
       "                                  2011-05     7.65\n",
       "                                             ...  \n",
       "ZINC WIRE SWEETHEART LETTER TRAY  2011-08     3.75\n",
       "                                  2011-09     7.50\n",
       "                                  2011-10    30.00\n",
       "                                  2011-11    33.75\n",
       "                                  2011-12    16.25\n",
       "Name: TotalPrice, Length: 30864, dtype: float64"
      ]
     },
     "execution_count": 71,
     "metadata": {},
     "output_type": "execute_result"
    }
   ],
   "source": [
    "revenue_by_category_month"
   ]
  },
  {
   "cell_type": "code",
   "execution_count": 67,
   "id": "2eba27fa",
   "metadata": {},
   "outputs": [
    {
     "ename": "KeyboardInterrupt",
     "evalue": "",
     "output_type": "error",
     "traceback": [
      "\u001b[1;31m---------------------------------------------------------------------------\u001b[0m",
      "\u001b[1;31mKeyboardInterrupt\u001b[0m                         Traceback (most recent call last)",
      "\u001b[1;32mC:\\Users\\HOLART~1\\AppData\\Local\\Temp/ipykernel_18380/4058105198.py\u001b[0m in \u001b[0;36m<module>\u001b[1;34m\u001b[0m\n\u001b[0;32m     15\u001b[0m \u001b[0mplt\u001b[0m\u001b[1;33m.\u001b[0m\u001b[0mxticks\u001b[0m\u001b[1;33m(\u001b[0m\u001b[0mrotation\u001b[0m\u001b[1;33m=\u001b[0m\u001b[1;36m45\u001b[0m\u001b[1;33m)\u001b[0m\u001b[1;33m\u001b[0m\u001b[1;33m\u001b[0m\u001b[0m\n\u001b[0;32m     16\u001b[0m \u001b[0mplt\u001b[0m\u001b[1;33m.\u001b[0m\u001b[0mgrid\u001b[0m\u001b[1;33m(\u001b[0m\u001b[0maxis\u001b[0m\u001b[1;33m=\u001b[0m\u001b[1;34m'y'\u001b[0m\u001b[1;33m,\u001b[0m \u001b[0mlinestyle\u001b[0m\u001b[1;33m=\u001b[0m\u001b[1;34m'--'\u001b[0m\u001b[1;33m,\u001b[0m \u001b[0malpha\u001b[0m\u001b[1;33m=\u001b[0m\u001b[1;36m0.7\u001b[0m\u001b[1;33m)\u001b[0m\u001b[1;33m\u001b[0m\u001b[1;33m\u001b[0m\u001b[0m\n\u001b[1;32m---> 17\u001b[1;33m \u001b[0mplt\u001b[0m\u001b[1;33m.\u001b[0m\u001b[0mshow\u001b[0m\u001b[1;33m(\u001b[0m\u001b[1;33m)\u001b[0m\u001b[1;33m\u001b[0m\u001b[1;33m\u001b[0m\u001b[0m\n\u001b[0m",
      "\u001b[1;32m~\\anaconda3\\lib\\site-packages\\matplotlib\\pyplot.py\u001b[0m in \u001b[0;36mshow\u001b[1;34m(*args, **kwargs)\u001b[0m\n\u001b[0;32m    376\u001b[0m     \"\"\"\n\u001b[0;32m    377\u001b[0m     \u001b[0m_warn_if_gui_out_of_main_thread\u001b[0m\u001b[1;33m(\u001b[0m\u001b[1;33m)\u001b[0m\u001b[1;33m\u001b[0m\u001b[1;33m\u001b[0m\u001b[0m\n\u001b[1;32m--> 378\u001b[1;33m     \u001b[1;32mreturn\u001b[0m \u001b[0m_backend_mod\u001b[0m\u001b[1;33m.\u001b[0m\u001b[0mshow\u001b[0m\u001b[1;33m(\u001b[0m\u001b[1;33m*\u001b[0m\u001b[0margs\u001b[0m\u001b[1;33m,\u001b[0m \u001b[1;33m**\u001b[0m\u001b[0mkwargs\u001b[0m\u001b[1;33m)\u001b[0m\u001b[1;33m\u001b[0m\u001b[1;33m\u001b[0m\u001b[0m\n\u001b[0m\u001b[0;32m    379\u001b[0m \u001b[1;33m\u001b[0m\u001b[0m\n\u001b[0;32m    380\u001b[0m \u001b[1;33m\u001b[0m\u001b[0m\n",
      "\u001b[1;32m~\\anaconda3\\lib\\site-packages\\matplotlib_inline\\backend_inline.py\u001b[0m in \u001b[0;36mshow\u001b[1;34m(close, block)\u001b[0m\n\u001b[0;32m     39\u001b[0m     \u001b[1;32mtry\u001b[0m\u001b[1;33m:\u001b[0m\u001b[1;33m\u001b[0m\u001b[1;33m\u001b[0m\u001b[0m\n\u001b[0;32m     40\u001b[0m         \u001b[1;32mfor\u001b[0m \u001b[0mfigure_manager\u001b[0m \u001b[1;32min\u001b[0m \u001b[0mGcf\u001b[0m\u001b[1;33m.\u001b[0m\u001b[0mget_all_fig_managers\u001b[0m\u001b[1;33m(\u001b[0m\u001b[1;33m)\u001b[0m\u001b[1;33m:\u001b[0m\u001b[1;33m\u001b[0m\u001b[1;33m\u001b[0m\u001b[0m\n\u001b[1;32m---> 41\u001b[1;33m             display(\n\u001b[0m\u001b[0;32m     42\u001b[0m                 \u001b[0mfigure_manager\u001b[0m\u001b[1;33m.\u001b[0m\u001b[0mcanvas\u001b[0m\u001b[1;33m.\u001b[0m\u001b[0mfigure\u001b[0m\u001b[1;33m,\u001b[0m\u001b[1;33m\u001b[0m\u001b[1;33m\u001b[0m\u001b[0m\n\u001b[0;32m     43\u001b[0m                 \u001b[0mmetadata\u001b[0m\u001b[1;33m=\u001b[0m\u001b[0m_fetch_figure_metadata\u001b[0m\u001b[1;33m(\u001b[0m\u001b[0mfigure_manager\u001b[0m\u001b[1;33m.\u001b[0m\u001b[0mcanvas\u001b[0m\u001b[1;33m.\u001b[0m\u001b[0mfigure\u001b[0m\u001b[1;33m)\u001b[0m\u001b[1;33m\u001b[0m\u001b[1;33m\u001b[0m\u001b[0m\n",
      "\u001b[1;32m~\\anaconda3\\lib\\site-packages\\IPython\\core\\display.py\u001b[0m in \u001b[0;36mdisplay\u001b[1;34m(include, exclude, metadata, transient, display_id, *objs, **kwargs)\u001b[0m\n\u001b[0;32m    318\u001b[0m             \u001b[0mpublish_display_data\u001b[0m\u001b[1;33m(\u001b[0m\u001b[0mdata\u001b[0m\u001b[1;33m=\u001b[0m\u001b[0mobj\u001b[0m\u001b[1;33m,\u001b[0m \u001b[0mmetadata\u001b[0m\u001b[1;33m=\u001b[0m\u001b[0mmetadata\u001b[0m\u001b[1;33m,\u001b[0m \u001b[1;33m**\u001b[0m\u001b[0mkwargs\u001b[0m\u001b[1;33m)\u001b[0m\u001b[1;33m\u001b[0m\u001b[1;33m\u001b[0m\u001b[0m\n\u001b[0;32m    319\u001b[0m         \u001b[1;32melse\u001b[0m\u001b[1;33m:\u001b[0m\u001b[1;33m\u001b[0m\u001b[1;33m\u001b[0m\u001b[0m\n\u001b[1;32m--> 320\u001b[1;33m             \u001b[0mformat_dict\u001b[0m\u001b[1;33m,\u001b[0m \u001b[0mmd_dict\u001b[0m \u001b[1;33m=\u001b[0m \u001b[0mformat\u001b[0m\u001b[1;33m(\u001b[0m\u001b[0mobj\u001b[0m\u001b[1;33m,\u001b[0m \u001b[0minclude\u001b[0m\u001b[1;33m=\u001b[0m\u001b[0minclude\u001b[0m\u001b[1;33m,\u001b[0m \u001b[0mexclude\u001b[0m\u001b[1;33m=\u001b[0m\u001b[0mexclude\u001b[0m\u001b[1;33m)\u001b[0m\u001b[1;33m\u001b[0m\u001b[1;33m\u001b[0m\u001b[0m\n\u001b[0m\u001b[0;32m    321\u001b[0m             \u001b[1;32mif\u001b[0m \u001b[1;32mnot\u001b[0m \u001b[0mformat_dict\u001b[0m\u001b[1;33m:\u001b[0m\u001b[1;33m\u001b[0m\u001b[1;33m\u001b[0m\u001b[0m\n\u001b[0;32m    322\u001b[0m                 \u001b[1;31m# nothing to display (e.g. _ipython_display_ took over)\u001b[0m\u001b[1;33m\u001b[0m\u001b[1;33m\u001b[0m\u001b[0m\n",
      "\u001b[1;32m~\\anaconda3\\lib\\site-packages\\IPython\\core\\formatters.py\u001b[0m in \u001b[0;36mformat\u001b[1;34m(self, obj, include, exclude)\u001b[0m\n\u001b[0;32m    178\u001b[0m             \u001b[0mmd\u001b[0m \u001b[1;33m=\u001b[0m \u001b[1;32mNone\u001b[0m\u001b[1;33m\u001b[0m\u001b[1;33m\u001b[0m\u001b[0m\n\u001b[0;32m    179\u001b[0m             \u001b[1;32mtry\u001b[0m\u001b[1;33m:\u001b[0m\u001b[1;33m\u001b[0m\u001b[1;33m\u001b[0m\u001b[0m\n\u001b[1;32m--> 180\u001b[1;33m                 \u001b[0mdata\u001b[0m \u001b[1;33m=\u001b[0m \u001b[0mformatter\u001b[0m\u001b[1;33m(\u001b[0m\u001b[0mobj\u001b[0m\u001b[1;33m)\u001b[0m\u001b[1;33m\u001b[0m\u001b[1;33m\u001b[0m\u001b[0m\n\u001b[0m\u001b[0;32m    181\u001b[0m             \u001b[1;32mexcept\u001b[0m\u001b[1;33m:\u001b[0m\u001b[1;33m\u001b[0m\u001b[1;33m\u001b[0m\u001b[0m\n\u001b[0;32m    182\u001b[0m                 \u001b[1;31m# FIXME: log the exception\u001b[0m\u001b[1;33m\u001b[0m\u001b[1;33m\u001b[0m\u001b[0m\n",
      "\u001b[1;32m~\\anaconda3\\lib\\site-packages\\decorator.py\u001b[0m in \u001b[0;36mfun\u001b[1;34m(*args, **kw)\u001b[0m\n\u001b[0;32m    230\u001b[0m             \u001b[1;32mif\u001b[0m \u001b[1;32mnot\u001b[0m \u001b[0mkwsyntax\u001b[0m\u001b[1;33m:\u001b[0m\u001b[1;33m\u001b[0m\u001b[1;33m\u001b[0m\u001b[0m\n\u001b[0;32m    231\u001b[0m                 \u001b[0margs\u001b[0m\u001b[1;33m,\u001b[0m \u001b[0mkw\u001b[0m \u001b[1;33m=\u001b[0m \u001b[0mfix\u001b[0m\u001b[1;33m(\u001b[0m\u001b[0margs\u001b[0m\u001b[1;33m,\u001b[0m \u001b[0mkw\u001b[0m\u001b[1;33m,\u001b[0m \u001b[0msig\u001b[0m\u001b[1;33m)\u001b[0m\u001b[1;33m\u001b[0m\u001b[1;33m\u001b[0m\u001b[0m\n\u001b[1;32m--> 232\u001b[1;33m             \u001b[1;32mreturn\u001b[0m \u001b[0mcaller\u001b[0m\u001b[1;33m(\u001b[0m\u001b[0mfunc\u001b[0m\u001b[1;33m,\u001b[0m \u001b[1;33m*\u001b[0m\u001b[1;33m(\u001b[0m\u001b[0mextras\u001b[0m \u001b[1;33m+\u001b[0m \u001b[0margs\u001b[0m\u001b[1;33m)\u001b[0m\u001b[1;33m,\u001b[0m \u001b[1;33m**\u001b[0m\u001b[0mkw\u001b[0m\u001b[1;33m)\u001b[0m\u001b[1;33m\u001b[0m\u001b[1;33m\u001b[0m\u001b[0m\n\u001b[0m\u001b[0;32m    233\u001b[0m     \u001b[0mfun\u001b[0m\u001b[1;33m.\u001b[0m\u001b[0m__name__\u001b[0m \u001b[1;33m=\u001b[0m \u001b[0mfunc\u001b[0m\u001b[1;33m.\u001b[0m\u001b[0m__name__\u001b[0m\u001b[1;33m\u001b[0m\u001b[1;33m\u001b[0m\u001b[0m\n\u001b[0;32m    234\u001b[0m     \u001b[0mfun\u001b[0m\u001b[1;33m.\u001b[0m\u001b[0m__doc__\u001b[0m \u001b[1;33m=\u001b[0m \u001b[0mfunc\u001b[0m\u001b[1;33m.\u001b[0m\u001b[0m__doc__\u001b[0m\u001b[1;33m\u001b[0m\u001b[1;33m\u001b[0m\u001b[0m\n",
      "\u001b[1;32m~\\anaconda3\\lib\\site-packages\\IPython\\core\\formatters.py\u001b[0m in \u001b[0;36mcatch_format_error\u001b[1;34m(method, self, *args, **kwargs)\u001b[0m\n\u001b[0;32m    222\u001b[0m     \u001b[1;34m\"\"\"show traceback on failed format call\"\"\"\u001b[0m\u001b[1;33m\u001b[0m\u001b[1;33m\u001b[0m\u001b[0m\n\u001b[0;32m    223\u001b[0m     \u001b[1;32mtry\u001b[0m\u001b[1;33m:\u001b[0m\u001b[1;33m\u001b[0m\u001b[1;33m\u001b[0m\u001b[0m\n\u001b[1;32m--> 224\u001b[1;33m         \u001b[0mr\u001b[0m \u001b[1;33m=\u001b[0m \u001b[0mmethod\u001b[0m\u001b[1;33m(\u001b[0m\u001b[0mself\u001b[0m\u001b[1;33m,\u001b[0m \u001b[1;33m*\u001b[0m\u001b[0margs\u001b[0m\u001b[1;33m,\u001b[0m \u001b[1;33m**\u001b[0m\u001b[0mkwargs\u001b[0m\u001b[1;33m)\u001b[0m\u001b[1;33m\u001b[0m\u001b[1;33m\u001b[0m\u001b[0m\n\u001b[0m\u001b[0;32m    225\u001b[0m     \u001b[1;32mexcept\u001b[0m \u001b[0mNotImplementedError\u001b[0m\u001b[1;33m:\u001b[0m\u001b[1;33m\u001b[0m\u001b[1;33m\u001b[0m\u001b[0m\n\u001b[0;32m    226\u001b[0m         \u001b[1;31m# don't warn on NotImplementedErrors\u001b[0m\u001b[1;33m\u001b[0m\u001b[1;33m\u001b[0m\u001b[0m\n",
      "\u001b[1;32m~\\anaconda3\\lib\\site-packages\\IPython\\core\\formatters.py\u001b[0m in \u001b[0;36m__call__\u001b[1;34m(self, obj)\u001b[0m\n\u001b[0;32m    339\u001b[0m                 \u001b[1;32mpass\u001b[0m\u001b[1;33m\u001b[0m\u001b[1;33m\u001b[0m\u001b[0m\n\u001b[0;32m    340\u001b[0m             \u001b[1;32melse\u001b[0m\u001b[1;33m:\u001b[0m\u001b[1;33m\u001b[0m\u001b[1;33m\u001b[0m\u001b[0m\n\u001b[1;32m--> 341\u001b[1;33m                 \u001b[1;32mreturn\u001b[0m \u001b[0mprinter\u001b[0m\u001b[1;33m(\u001b[0m\u001b[0mobj\u001b[0m\u001b[1;33m)\u001b[0m\u001b[1;33m\u001b[0m\u001b[1;33m\u001b[0m\u001b[0m\n\u001b[0m\u001b[0;32m    342\u001b[0m             \u001b[1;31m# Finally look for special method names\u001b[0m\u001b[1;33m\u001b[0m\u001b[1;33m\u001b[0m\u001b[0m\n\u001b[0;32m    343\u001b[0m             \u001b[0mmethod\u001b[0m \u001b[1;33m=\u001b[0m \u001b[0mget_real_method\u001b[0m\u001b[1;33m(\u001b[0m\u001b[0mobj\u001b[0m\u001b[1;33m,\u001b[0m \u001b[0mself\u001b[0m\u001b[1;33m.\u001b[0m\u001b[0mprint_method\u001b[0m\u001b[1;33m)\u001b[0m\u001b[1;33m\u001b[0m\u001b[1;33m\u001b[0m\u001b[0m\n",
      "\u001b[1;32m~\\anaconda3\\lib\\site-packages\\IPython\\core\\pylabtools.py\u001b[0m in \u001b[0;36mprint_figure\u001b[1;34m(fig, fmt, bbox_inches, base64, **kwargs)\u001b[0m\n\u001b[0;32m    149\u001b[0m         \u001b[0mFigureCanvasBase\u001b[0m\u001b[1;33m(\u001b[0m\u001b[0mfig\u001b[0m\u001b[1;33m)\u001b[0m\u001b[1;33m\u001b[0m\u001b[1;33m\u001b[0m\u001b[0m\n\u001b[0;32m    150\u001b[0m \u001b[1;33m\u001b[0m\u001b[0m\n\u001b[1;32m--> 151\u001b[1;33m     \u001b[0mfig\u001b[0m\u001b[1;33m.\u001b[0m\u001b[0mcanvas\u001b[0m\u001b[1;33m.\u001b[0m\u001b[0mprint_figure\u001b[0m\u001b[1;33m(\u001b[0m\u001b[0mbytes_io\u001b[0m\u001b[1;33m,\u001b[0m \u001b[1;33m**\u001b[0m\u001b[0mkw\u001b[0m\u001b[1;33m)\u001b[0m\u001b[1;33m\u001b[0m\u001b[1;33m\u001b[0m\u001b[0m\n\u001b[0m\u001b[0;32m    152\u001b[0m     \u001b[0mdata\u001b[0m \u001b[1;33m=\u001b[0m \u001b[0mbytes_io\u001b[0m\u001b[1;33m.\u001b[0m\u001b[0mgetvalue\u001b[0m\u001b[1;33m(\u001b[0m\u001b[1;33m)\u001b[0m\u001b[1;33m\u001b[0m\u001b[1;33m\u001b[0m\u001b[0m\n\u001b[0;32m    153\u001b[0m     \u001b[1;32mif\u001b[0m \u001b[0mfmt\u001b[0m \u001b[1;33m==\u001b[0m \u001b[1;34m'svg'\u001b[0m\u001b[1;33m:\u001b[0m\u001b[1;33m\u001b[0m\u001b[1;33m\u001b[0m\u001b[0m\n",
      "\u001b[1;32m~\\anaconda3\\lib\\site-packages\\matplotlib\\backend_bases.py\u001b[0m in \u001b[0;36mprint_figure\u001b[1;34m(self, filename, dpi, facecolor, edgecolor, orientation, format, bbox_inches, pad_inches, bbox_extra_artists, backend, **kwargs)\u001b[0m\n\u001b[0;32m   2232\u001b[0m             \u001b[1;32mif\u001b[0m \u001b[0mbbox_inches\u001b[0m\u001b[1;33m:\u001b[0m\u001b[1;33m\u001b[0m\u001b[1;33m\u001b[0m\u001b[0m\n\u001b[0;32m   2233\u001b[0m                 \u001b[1;32mif\u001b[0m \u001b[0mbbox_inches\u001b[0m \u001b[1;33m==\u001b[0m \u001b[1;34m\"tight\"\u001b[0m\u001b[1;33m:\u001b[0m\u001b[1;33m\u001b[0m\u001b[1;33m\u001b[0m\u001b[0m\n\u001b[1;32m-> 2234\u001b[1;33m                     bbox_inches = self.figure.get_tightbbox(\n\u001b[0m\u001b[0;32m   2235\u001b[0m                         renderer, bbox_extra_artists=bbox_extra_artists)\n\u001b[0;32m   2236\u001b[0m                     \u001b[1;32mif\u001b[0m \u001b[0mpad_inches\u001b[0m \u001b[1;32mis\u001b[0m \u001b[1;32mNone\u001b[0m\u001b[1;33m:\u001b[0m\u001b[1;33m\u001b[0m\u001b[1;33m\u001b[0m\u001b[0m\n",
      "\u001b[1;32m~\\anaconda3\\lib\\site-packages\\matplotlib\\figure.py\u001b[0m in \u001b[0;36mget_tightbbox\u001b[1;34m(self, renderer, bbox_extra_artists)\u001b[0m\n\u001b[0;32m   1637\u001b[0m \u001b[1;33m\u001b[0m\u001b[0m\n\u001b[0;32m   1638\u001b[0m         \u001b[1;32mfor\u001b[0m \u001b[0ma\u001b[0m \u001b[1;32min\u001b[0m \u001b[0martists\u001b[0m\u001b[1;33m:\u001b[0m\u001b[1;33m\u001b[0m\u001b[1;33m\u001b[0m\u001b[0m\n\u001b[1;32m-> 1639\u001b[1;33m             \u001b[0mbbox\u001b[0m \u001b[1;33m=\u001b[0m \u001b[0ma\u001b[0m\u001b[1;33m.\u001b[0m\u001b[0mget_tightbbox\u001b[0m\u001b[1;33m(\u001b[0m\u001b[0mrenderer\u001b[0m\u001b[1;33m)\u001b[0m\u001b[1;33m\u001b[0m\u001b[1;33m\u001b[0m\u001b[0m\n\u001b[0m\u001b[0;32m   1640\u001b[0m             \u001b[1;32mif\u001b[0m \u001b[0mbbox\u001b[0m \u001b[1;32mis\u001b[0m \u001b[1;32mnot\u001b[0m \u001b[1;32mNone\u001b[0m \u001b[1;32mand\u001b[0m \u001b[1;33m(\u001b[0m\u001b[0mbbox\u001b[0m\u001b[1;33m.\u001b[0m\u001b[0mwidth\u001b[0m \u001b[1;33m!=\u001b[0m \u001b[1;36m0\u001b[0m \u001b[1;32mor\u001b[0m \u001b[0mbbox\u001b[0m\u001b[1;33m.\u001b[0m\u001b[0mheight\u001b[0m \u001b[1;33m!=\u001b[0m \u001b[1;36m0\u001b[0m\u001b[1;33m)\u001b[0m\u001b[1;33m:\u001b[0m\u001b[1;33m\u001b[0m\u001b[1;33m\u001b[0m\u001b[0m\n\u001b[0;32m   1641\u001b[0m                 \u001b[0mbb\u001b[0m\u001b[1;33m.\u001b[0m\u001b[0mappend\u001b[0m\u001b[1;33m(\u001b[0m\u001b[0mbbox\u001b[0m\u001b[1;33m)\u001b[0m\u001b[1;33m\u001b[0m\u001b[1;33m\u001b[0m\u001b[0m\n",
      "\u001b[1;32m~\\anaconda3\\lib\\site-packages\\matplotlib\\axis.py\u001b[0m in \u001b[0;36mget_tightbbox\u001b[1;34m(self, renderer, for_layout_only)\u001b[0m\n\u001b[0;32m   1086\u001b[0m         \u001b[0mticks_to_draw\u001b[0m \u001b[1;33m=\u001b[0m \u001b[0mself\u001b[0m\u001b[1;33m.\u001b[0m\u001b[0m_update_ticks\u001b[0m\u001b[1;33m(\u001b[0m\u001b[1;33m)\u001b[0m\u001b[1;33m\u001b[0m\u001b[1;33m\u001b[0m\u001b[0m\n\u001b[0;32m   1087\u001b[0m \u001b[1;33m\u001b[0m\u001b[0m\n\u001b[1;32m-> 1088\u001b[1;33m         \u001b[0mself\u001b[0m\u001b[1;33m.\u001b[0m\u001b[0m_update_label_position\u001b[0m\u001b[1;33m(\u001b[0m\u001b[0mrenderer\u001b[0m\u001b[1;33m)\u001b[0m\u001b[1;33m\u001b[0m\u001b[1;33m\u001b[0m\u001b[0m\n\u001b[0m\u001b[0;32m   1089\u001b[0m \u001b[1;33m\u001b[0m\u001b[0m\n\u001b[0;32m   1090\u001b[0m         \u001b[1;31m# go back to just this axis's tick labels\u001b[0m\u001b[1;33m\u001b[0m\u001b[1;33m\u001b[0m\u001b[0m\n",
      "\u001b[1;32m~\\anaconda3\\lib\\site-packages\\matplotlib\\axis.py\u001b[0m in \u001b[0;36m_update_label_position\u001b[1;34m(self, renderer)\u001b[0m\n\u001b[0;32m   2083\u001b[0m         \u001b[1;31m# get bounding boxes for this axis and any siblings\u001b[0m\u001b[1;33m\u001b[0m\u001b[1;33m\u001b[0m\u001b[0m\n\u001b[0;32m   2084\u001b[0m         \u001b[1;31m# that have been set by `fig.align_xlabels()`\u001b[0m\u001b[1;33m\u001b[0m\u001b[1;33m\u001b[0m\u001b[0m\n\u001b[1;32m-> 2085\u001b[1;33m         \u001b[0mbboxes\u001b[0m\u001b[1;33m,\u001b[0m \u001b[0mbboxes2\u001b[0m \u001b[1;33m=\u001b[0m \u001b[0mself\u001b[0m\u001b[1;33m.\u001b[0m\u001b[0m_get_tick_boxes_siblings\u001b[0m\u001b[1;33m(\u001b[0m\u001b[0mrenderer\u001b[0m\u001b[1;33m=\u001b[0m\u001b[0mrenderer\u001b[0m\u001b[1;33m)\u001b[0m\u001b[1;33m\u001b[0m\u001b[1;33m\u001b[0m\u001b[0m\n\u001b[0m\u001b[0;32m   2086\u001b[0m \u001b[1;33m\u001b[0m\u001b[0m\n\u001b[0;32m   2087\u001b[0m         \u001b[0mx\u001b[0m\u001b[1;33m,\u001b[0m \u001b[0my\u001b[0m \u001b[1;33m=\u001b[0m \u001b[0mself\u001b[0m\u001b[1;33m.\u001b[0m\u001b[0mlabel\u001b[0m\u001b[1;33m.\u001b[0m\u001b[0mget_position\u001b[0m\u001b[1;33m(\u001b[0m\u001b[1;33m)\u001b[0m\u001b[1;33m\u001b[0m\u001b[1;33m\u001b[0m\u001b[0m\n",
      "\u001b[1;32m~\\anaconda3\\lib\\site-packages\\matplotlib\\axis.py\u001b[0m in \u001b[0;36m_get_tick_boxes_siblings\u001b[1;34m(self, renderer)\u001b[0m\n\u001b[0;32m   1871\u001b[0m             \u001b[0maxis\u001b[0m \u001b[1;33m=\u001b[0m \u001b[0max\u001b[0m\u001b[1;33m.\u001b[0m\u001b[0m_get_axis_map\u001b[0m\u001b[1;33m(\u001b[0m\u001b[1;33m)\u001b[0m\u001b[1;33m[\u001b[0m\u001b[0maxis_name\u001b[0m\u001b[1;33m]\u001b[0m\u001b[1;33m\u001b[0m\u001b[1;33m\u001b[0m\u001b[0m\n\u001b[0;32m   1872\u001b[0m             \u001b[0mticks_to_draw\u001b[0m \u001b[1;33m=\u001b[0m \u001b[0maxis\u001b[0m\u001b[1;33m.\u001b[0m\u001b[0m_update_ticks\u001b[0m\u001b[1;33m(\u001b[0m\u001b[1;33m)\u001b[0m\u001b[1;33m\u001b[0m\u001b[1;33m\u001b[0m\u001b[0m\n\u001b[1;32m-> 1873\u001b[1;33m             \u001b[0mtlb\u001b[0m\u001b[1;33m,\u001b[0m \u001b[0mtlb2\u001b[0m \u001b[1;33m=\u001b[0m \u001b[0maxis\u001b[0m\u001b[1;33m.\u001b[0m\u001b[0m_get_tick_bboxes\u001b[0m\u001b[1;33m(\u001b[0m\u001b[0mticks_to_draw\u001b[0m\u001b[1;33m,\u001b[0m \u001b[0mrenderer\u001b[0m\u001b[1;33m)\u001b[0m\u001b[1;33m\u001b[0m\u001b[1;33m\u001b[0m\u001b[0m\n\u001b[0m\u001b[0;32m   1874\u001b[0m             \u001b[0mbboxes\u001b[0m\u001b[1;33m.\u001b[0m\u001b[0mextend\u001b[0m\u001b[1;33m(\u001b[0m\u001b[0mtlb\u001b[0m\u001b[1;33m)\u001b[0m\u001b[1;33m\u001b[0m\u001b[1;33m\u001b[0m\u001b[0m\n\u001b[0;32m   1875\u001b[0m             \u001b[0mbboxes2\u001b[0m\u001b[1;33m.\u001b[0m\u001b[0mextend\u001b[0m\u001b[1;33m(\u001b[0m\u001b[0mtlb2\u001b[0m\u001b[1;33m)\u001b[0m\u001b[1;33m\u001b[0m\u001b[1;33m\u001b[0m\u001b[0m\n",
      "\u001b[1;32m~\\anaconda3\\lib\\site-packages\\matplotlib\\axis.py\u001b[0m in \u001b[0;36m_get_tick_bboxes\u001b[1;34m(self, ticks, renderer)\u001b[0m\n\u001b[0;32m   1066\u001b[0m     \u001b[1;32mdef\u001b[0m \u001b[0m_get_tick_bboxes\u001b[0m\u001b[1;33m(\u001b[0m\u001b[0mself\u001b[0m\u001b[1;33m,\u001b[0m \u001b[0mticks\u001b[0m\u001b[1;33m,\u001b[0m \u001b[0mrenderer\u001b[0m\u001b[1;33m)\u001b[0m\u001b[1;33m:\u001b[0m\u001b[1;33m\u001b[0m\u001b[1;33m\u001b[0m\u001b[0m\n\u001b[0;32m   1067\u001b[0m         \u001b[1;34m\"\"\"Return lists of bboxes for ticks' label1's and label2's.\"\"\"\u001b[0m\u001b[1;33m\u001b[0m\u001b[1;33m\u001b[0m\u001b[0m\n\u001b[1;32m-> 1068\u001b[1;33m         return ([tick.label1.get_window_extent(renderer)\n\u001b[0m\u001b[0;32m   1069\u001b[0m                  for tick in ticks if tick.label1.get_visible()],\n\u001b[0;32m   1070\u001b[0m                 [tick.label2.get_window_extent(renderer)\n",
      "\u001b[1;32m~\\anaconda3\\lib\\site-packages\\matplotlib\\axis.py\u001b[0m in \u001b[0;36m<listcomp>\u001b[1;34m(.0)\u001b[0m\n\u001b[0;32m   1066\u001b[0m     \u001b[1;32mdef\u001b[0m \u001b[0m_get_tick_bboxes\u001b[0m\u001b[1;33m(\u001b[0m\u001b[0mself\u001b[0m\u001b[1;33m,\u001b[0m \u001b[0mticks\u001b[0m\u001b[1;33m,\u001b[0m \u001b[0mrenderer\u001b[0m\u001b[1;33m)\u001b[0m\u001b[1;33m:\u001b[0m\u001b[1;33m\u001b[0m\u001b[1;33m\u001b[0m\u001b[0m\n\u001b[0;32m   1067\u001b[0m         \u001b[1;34m\"\"\"Return lists of bboxes for ticks' label1's and label2's.\"\"\"\u001b[0m\u001b[1;33m\u001b[0m\u001b[1;33m\u001b[0m\u001b[0m\n\u001b[1;32m-> 1068\u001b[1;33m         return ([tick.label1.get_window_extent(renderer)\n\u001b[0m\u001b[0;32m   1069\u001b[0m                  for tick in ticks if tick.label1.get_visible()],\n\u001b[0;32m   1070\u001b[0m                 [tick.label2.get_window_extent(renderer)\n",
      "\u001b[1;32m~\\anaconda3\\lib\\site-packages\\matplotlib\\text.py\u001b[0m in \u001b[0;36mget_window_extent\u001b[1;34m(self, renderer, dpi)\u001b[0m\n\u001b[0;32m    901\u001b[0m \u001b[1;33m\u001b[0m\u001b[0m\n\u001b[0;32m    902\u001b[0m         \u001b[1;32mwith\u001b[0m \u001b[0mcbook\u001b[0m\u001b[1;33m.\u001b[0m\u001b[0m_setattr_cm\u001b[0m\u001b[1;33m(\u001b[0m\u001b[0mself\u001b[0m\u001b[1;33m.\u001b[0m\u001b[0mfigure\u001b[0m\u001b[1;33m,\u001b[0m \u001b[0mdpi\u001b[0m\u001b[1;33m=\u001b[0m\u001b[0mdpi\u001b[0m\u001b[1;33m)\u001b[0m\u001b[1;33m:\u001b[0m\u001b[1;33m\u001b[0m\u001b[1;33m\u001b[0m\u001b[0m\n\u001b[1;32m--> 903\u001b[1;33m             \u001b[0mbbox\u001b[0m\u001b[1;33m,\u001b[0m \u001b[0minfo\u001b[0m\u001b[1;33m,\u001b[0m \u001b[0mdescent\u001b[0m \u001b[1;33m=\u001b[0m \u001b[0mself\u001b[0m\u001b[1;33m.\u001b[0m\u001b[0m_get_layout\u001b[0m\u001b[1;33m(\u001b[0m\u001b[0mself\u001b[0m\u001b[1;33m.\u001b[0m\u001b[0m_renderer\u001b[0m\u001b[1;33m)\u001b[0m\u001b[1;33m\u001b[0m\u001b[1;33m\u001b[0m\u001b[0m\n\u001b[0m\u001b[0;32m    904\u001b[0m             \u001b[0mx\u001b[0m\u001b[1;33m,\u001b[0m \u001b[0my\u001b[0m \u001b[1;33m=\u001b[0m \u001b[0mself\u001b[0m\u001b[1;33m.\u001b[0m\u001b[0mget_unitless_position\u001b[0m\u001b[1;33m(\u001b[0m\u001b[1;33m)\u001b[0m\u001b[1;33m\u001b[0m\u001b[1;33m\u001b[0m\u001b[0m\n\u001b[0;32m    905\u001b[0m             \u001b[0mx\u001b[0m\u001b[1;33m,\u001b[0m \u001b[0my\u001b[0m \u001b[1;33m=\u001b[0m \u001b[0mself\u001b[0m\u001b[1;33m.\u001b[0m\u001b[0mget_transform\u001b[0m\u001b[1;33m(\u001b[0m\u001b[1;33m)\u001b[0m\u001b[1;33m.\u001b[0m\u001b[0mtransform\u001b[0m\u001b[1;33m(\u001b[0m\u001b[1;33m(\u001b[0m\u001b[0mx\u001b[0m\u001b[1;33m,\u001b[0m \u001b[0my\u001b[0m\u001b[1;33m)\u001b[0m\u001b[1;33m)\u001b[0m\u001b[1;33m\u001b[0m\u001b[1;33m\u001b[0m\u001b[0m\n",
      "\u001b[1;32m~\\anaconda3\\lib\\site-packages\\matplotlib\\text.py\u001b[0m in \u001b[0;36m_get_layout\u001b[1;34m(self, renderer)\u001b[0m\n\u001b[0;32m    312\u001b[0m             \u001b[0mclean_line\u001b[0m\u001b[1;33m,\u001b[0m \u001b[0mismath\u001b[0m \u001b[1;33m=\u001b[0m \u001b[0mself\u001b[0m\u001b[1;33m.\u001b[0m\u001b[0m_preprocess_math\u001b[0m\u001b[1;33m(\u001b[0m\u001b[0mline\u001b[0m\u001b[1;33m)\u001b[0m\u001b[1;33m\u001b[0m\u001b[1;33m\u001b[0m\u001b[0m\n\u001b[0;32m    313\u001b[0m             \u001b[1;32mif\u001b[0m \u001b[0mclean_line\u001b[0m\u001b[1;33m:\u001b[0m\u001b[1;33m\u001b[0m\u001b[1;33m\u001b[0m\u001b[0m\n\u001b[1;32m--> 314\u001b[1;33m                 w, h, d = renderer.get_text_width_height_descent(\n\u001b[0m\u001b[0;32m    315\u001b[0m                     clean_line, self._fontproperties, ismath=ismath)\n\u001b[0;32m    316\u001b[0m             \u001b[1;32melse\u001b[0m\u001b[1;33m:\u001b[0m\u001b[1;33m\u001b[0m\u001b[1;33m\u001b[0m\u001b[0m\n",
      "\u001b[1;32m~\\anaconda3\\lib\\site-packages\\matplotlib\\backends\\backend_agg.py\u001b[0m in \u001b[0;36mget_text_width_height_descent\u001b[1;34m(self, s, prop, ismath)\u001b[0m\n\u001b[0;32m    238\u001b[0m         \u001b[0mflags\u001b[0m \u001b[1;33m=\u001b[0m \u001b[0mget_hinting_flag\u001b[0m\u001b[1;33m(\u001b[0m\u001b[1;33m)\u001b[0m\u001b[1;33m\u001b[0m\u001b[1;33m\u001b[0m\u001b[0m\n\u001b[0;32m    239\u001b[0m         \u001b[0mfont\u001b[0m \u001b[1;33m=\u001b[0m \u001b[0mself\u001b[0m\u001b[1;33m.\u001b[0m\u001b[0m_get_agg_font\u001b[0m\u001b[1;33m(\u001b[0m\u001b[0mprop\u001b[0m\u001b[1;33m)\u001b[0m\u001b[1;33m\u001b[0m\u001b[1;33m\u001b[0m\u001b[0m\n\u001b[1;32m--> 240\u001b[1;33m         \u001b[0mfont\u001b[0m\u001b[1;33m.\u001b[0m\u001b[0mset_text\u001b[0m\u001b[1;33m(\u001b[0m\u001b[0ms\u001b[0m\u001b[1;33m,\u001b[0m \u001b[1;36m0.0\u001b[0m\u001b[1;33m,\u001b[0m \u001b[0mflags\u001b[0m\u001b[1;33m=\u001b[0m\u001b[0mflags\u001b[0m\u001b[1;33m)\u001b[0m\u001b[1;33m\u001b[0m\u001b[1;33m\u001b[0m\u001b[0m\n\u001b[0m\u001b[0;32m    241\u001b[0m         \u001b[0mw\u001b[0m\u001b[1;33m,\u001b[0m \u001b[0mh\u001b[0m \u001b[1;33m=\u001b[0m \u001b[0mfont\u001b[0m\u001b[1;33m.\u001b[0m\u001b[0mget_width_height\u001b[0m\u001b[1;33m(\u001b[0m\u001b[1;33m)\u001b[0m  \u001b[1;31m# width and height of unrotated string\u001b[0m\u001b[1;33m\u001b[0m\u001b[1;33m\u001b[0m\u001b[0m\n\u001b[0;32m    242\u001b[0m         \u001b[0md\u001b[0m \u001b[1;33m=\u001b[0m \u001b[0mfont\u001b[0m\u001b[1;33m.\u001b[0m\u001b[0mget_descent\u001b[0m\u001b[1;33m(\u001b[0m\u001b[1;33m)\u001b[0m\u001b[1;33m\u001b[0m\u001b[1;33m\u001b[0m\u001b[0m\n",
      "\u001b[1;31mKeyboardInterrupt\u001b[0m: "
     ]
    }
   ],
   "source": [
    "import matplotlib.pyplot as plt\n",
    "\n",
    "# Group the data by year and sum up the total revenue\n",
    "yearly_revenue = data.groupby(data['Year'])['TotalPrice'].sum()\n",
    "\n",
    "# Calculate the year-over-year percentage change in revenue\n",
    "overall_growth_rate = revenue_by_category_year.pct_change()\n",
    "\n",
    "# Plot the overall growth rate using a bar chart\n",
    "plt.figure(figsize=(10, 6))\n",
    "overall_growth_rate.plot(kind='bar', color='skyblue')\n",
    "plt.title('Year-Over-Year Revenue Growth Rate')\n",
    "plt.xlabel('Year')\n",
    "plt.ylabel('Growth Rate')\n",
    "plt.xticks(rotation=45)\n",
    "plt.grid(axis='y', linestyle='--', alpha=0.7)\n",
    "plt.show()\n"
   ]
  },
  {
   "cell_type": "markdown",
   "id": "c5891be9",
   "metadata": {},
   "source": [
    "## Analyzing customer orders by country and creating a geographical heat map to visualize the distribution of customer orders. Here's how you can do it:\n",
    "\n",
    "Group the data by country and count the number of orders in each country.\n",
    "Create a geographical heat map using a library like Geopandas or Plotly to visualize the distribution of customer orders."
   ]
  },
  {
   "cell_type": "code",
   "execution_count": 63,
   "id": "e73d3302",
   "metadata": {},
   "outputs": [
    {
     "ename": "NameError",
     "evalue": "name 'data2' is not defined",
     "output_type": "error",
     "traceback": [
      "\u001b[1;31m---------------------------------------------------------------------------\u001b[0m",
      "\u001b[1;31mNameError\u001b[0m                                 Traceback (most recent call last)",
      "\u001b[1;32mC:\\Users\\HOLART~1\\AppData\\Local\\Temp/ipykernel_5708/1660823243.py\u001b[0m in \u001b[0;36m<module>\u001b[1;34m\u001b[0m\n\u001b[0;32m      1\u001b[0m \u001b[1;31m# Group the data by country and count the number of orders in each country\u001b[0m\u001b[1;33m\u001b[0m\u001b[1;33m\u001b[0m\u001b[0m\n\u001b[1;32m----> 2\u001b[1;33m \u001b[0morders_by_country\u001b[0m \u001b[1;33m=\u001b[0m \u001b[0mdata2\u001b[0m\u001b[1;33m.\u001b[0m\u001b[0mgroupby\u001b[0m\u001b[1;33m(\u001b[0m\u001b[1;34m'Country'\u001b[0m\u001b[1;33m)\u001b[0m\u001b[1;33m[\u001b[0m\u001b[1;34m'InvoiceNo'\u001b[0m\u001b[1;33m]\u001b[0m\u001b[1;33m.\u001b[0m\u001b[0mcount\u001b[0m\u001b[1;33m(\u001b[0m\u001b[1;33m)\u001b[0m\u001b[1;33m.\u001b[0m\u001b[0mreset_index\u001b[0m\u001b[1;33m(\u001b[0m\u001b[1;33m)\u001b[0m\u001b[1;33m\u001b[0m\u001b[1;33m\u001b[0m\u001b[0m\n\u001b[0m",
      "\u001b[1;31mNameError\u001b[0m: name 'data2' is not defined"
     ]
    }
   ],
   "source": [
    "# Group the data by country and count the number of orders in each country\n",
    "orders_by_country = data2.groupby('Country')['InvoiceNo'].count().reset_index()"
   ]
  },
  {
   "cell_type": "code",
   "execution_count": null,
   "id": "c24a74bc",
   "metadata": {},
   "outputs": [],
   "source": [
    "import matplotlib.pyplot as plt"
   ]
  },
  {
   "cell_type": "code",
   "execution_count": null,
   "id": "d1f45d79",
   "metadata": {},
   "outputs": [],
   "source": [
    "import geopandas as gpd\n",
    "\n",
    "# Load the world map data\n",
    "world = gpd.read_file(gpd.datasets.get_path('naturalearth_lowres'))\n",
    "\n",
    "# Merge the world map data with the orders by country data\n",
    "world = world.merge(orders_by_country, how='left', left_on='name', right_on='Country')\n",
    "\n",
    "# Plot the geographical heat map\n",
    "world.plot(column='InvoiceNo', cmap='OrRd', legend=True, figsize=(15, 10))\n",
    "plt.title('Distribution of Customer Orders by Country')\n",
    "plt.xlabel('Longitude')\n",
    "plt.ylabel('Latitude')\n",
    "plt.show()\n"
   ]
  },
  {
   "cell_type": "code",
   "execution_count": null,
   "id": "7c5e3316",
   "metadata": {},
   "outputs": [],
   "source": [
    "import plotly.express as px\n",
    "\n",
    "# Assuming 'df' is your DataFrame containing the data grouped by country\n",
    "# and the count of orders in each country\n",
    "\n",
    "# Create the choropleth map\n",
    "fig = px.choropleth(data2, \n",
    "                    locations='Country', \n",
    "                    locationmode='country names',\n",
    "                    color='OrderCount',\n",
    "                    color_continuous_scale='Viridis',\n",
    "                    hover_name='Country',\n",
    "                    title='Distribution of Customer Orders by Country')\n",
    "\n",
    "# Show the map\n",
    "fig.show()\n"
   ]
  },
  {
   "cell_type": "code",
   "execution_count": null,
   "id": "000f697b",
   "metadata": {},
   "outputs": [],
   "source": [
    "\n"
   ]
  },
  {
   "cell_type": "code",
   "execution_count": null,
   "id": "8d09cc33",
   "metadata": {},
   "outputs": [],
   "source": [
    "import matplotlib.pyplot as plt\n",
    "\n",
    "# Create subplots for histograms and box plots\n",
    "fig, axes = plt.subplots(nrows=2, ncols=2, figsize=(12, 10))\n",
    "\n",
    "# Plot histograms for Quantity and UnitPrice\n",
    "data2['Quantity'].plot(kind='hist', bins=20, ax=axes[0, 0], title='Quantity Histogram')\n",
    "data2['UnitPrice'].plot(kind='hist', bins=20, ax=axes[0, 1], title='UnitPrice Histogram')\n",
    "\n",
    "# Plot box plots for Quantity and UnitPrice\n",
    "data2.boxplot(column='Quantity', ax=axes[1, 0])\n",
    "data2.boxplot(column='UnitPrice', ax=axes[1, 1])\n",
    "\n",
    "plt.tight_layout()\n",
    "plt.show()\n"
   ]
  },
  {
   "cell_type": "code",
   "execution_count": null,
   "id": "e10e33f3",
   "metadata": {},
   "outputs": [],
   "source": [
    "# Select only numerical columns for outlier detection\n",
    "numerical_columns = data2.select_dtypes(include=['int', 'float']).columns\n",
    "\n",
    "# Calculate the IQR for each numerical column\n",
    "Q1 = data2[numerical_columns].quantile(0.25)\n",
    "Q3 = data2[numerical_columns].quantile(0.75)\n",
    "IQR = Q3 - Q1\n",
    "\n",
    "# Define the lower and upper bounds for outliers\n",
    "lower_bound = Q1 - 1.5 * IQR\n",
    "upper_bound = Q3 + 1.5 * IQR\n",
    "\n",
    "# Identify outliers for each numerical column\n",
    "outliers = {}\n",
    "for column in numerical_columns:\n",
    "    outliers[column] = data2[(data2[column] < lower_bound[column]) | (data2[column] > upper_bound[column])]\n",
    "\n",
    "# Print the outliers for each numerical column\n",
    "for column, outlier_data in outliers.items():\n",
    "    print(f\"Outliers for {column}:\")\n",
    "    print(outlier_data)\n",
    "    print()\n"
   ]
  },
  {
   "cell_type": "code",
   "execution_count": null,
   "id": "c812d9ce",
   "metadata": {},
   "outputs": [],
   "source": []
  },
  {
   "cell_type": "code",
   "execution_count": null,
   "id": "6cc2d70d",
   "metadata": {},
   "outputs": [],
   "source": [
    "# Assuming you're interested in outliers in terms of total price and quantity\n",
    "# total_price_zscore = (data2['TotalPrice'] - data['TotalPrice'].mean()) / data2['TotalPrice'].std()\n",
    "quantity_zscore = (data2['Quantity'] - data2['Quantity'].mean()) / data2['Quantity'].std()\n",
    "\n",
    "# Define a threshold for identifying outliers\n",
    "# You can adjust this threshold based on your specific requirements\n",
    "zscore_threshold = 3\n",
    "\n",
    "# Find outliers based on the z-score\n",
    "# total_price_outliers = data2[total_price_zscore.abs() > zscore_threshold]\n",
    "quantity_outliers = data2[quantity_zscore.abs() > zscore_threshold]\n",
    "\n",
    "# Display the outliers\n",
    "print(\"Total Price Outliers:\")\n",
    "(quantity_outliers)"
   ]
  },
  {
   "cell_type": "code",
   "execution_count": null,
   "id": "17b9f7cb",
   "metadata": {},
   "outputs": [],
   "source": [
    "import plotly.express as px\n",
    "\n",
    "# Group the data by country and calculate total sales activity\n",
    "sales_by_country = data.groupby('Country')['Quantity'].sum().reset_index()\n",
    "\n",
    "# Create a geographical heat map\n",
    "fig = px.choropleth(sales_by_country, \n",
    "                    locations='Country', \n",
    "                    locationmode='country names', \n",
    "                    color='Quantity', \n",
    "                    color_continuous_scale='Viridis', \n",
    "                    title='Distribution of Customer Orders by Country')\n",
    "\n",
    "# Add country names as text annotations\n",
    "for index, row in sales_by_country.iterrows():\n",
    "    fig.add_annotation(\n",
    "        x=row['Country'],\n",
    "        y=row['Quantity'],\n",
    "        text=row['Country'],\n",
    "        showarrow=False,\n",
    "        font=dict(size=10, color='black'),\n",
    "    )\n",
    "    \n",
    "fig.show()\n"
   ]
  }
 ],
 "metadata": {
  "kernelspec": {
   "display_name": "Python 3 (ipykernel)",
   "language": "python",
   "name": "python3"
  },
  "language_info": {
   "codemirror_mode": {
    "name": "ipython",
    "version": 3
   },
   "file_extension": ".py",
   "mimetype": "text/x-python",
   "name": "python",
   "nbconvert_exporter": "python",
   "pygments_lexer": "ipython3",
   "version": "3.9.7"
  }
 },
 "nbformat": 4,
 "nbformat_minor": 5
}
